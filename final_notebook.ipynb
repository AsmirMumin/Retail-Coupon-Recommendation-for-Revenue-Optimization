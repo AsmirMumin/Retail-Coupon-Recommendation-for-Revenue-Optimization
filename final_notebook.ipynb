{
 "cells": [
  {
   "cell_type": "markdown",
   "metadata": {},
   "source": [
    "# Final Assignment MLiM - WS 20/21\n",
    "\n",
    "## Import Packages\n",
    "\n",
    "TO DO: \n",
    "\n",
    "* Please reassign your corresponding paths\n",
    "    * Set path where data sets are stored; newly created data sets will also be stored there\n",
    "    * Set path to where the module is stored; this path will also be used to store the results"
   ]
  },
  {
   "cell_type": "code",
   "execution_count": 12,
   "metadata": {},
   "outputs": [
    {
     "name": "stdout",
     "output_type": "stream",
     "text": [
      "/Users/Bisa/Desktop/mlim_13/final_assignment\n"
     ]
    }
   ],
   "source": [
    "'TO DO: Please reassign your corresponding paths:'\n",
    "\n",
    "#set path where data sets are stored\n",
    "path_datasets = '/Users/Bisa/Desktop/mlim_13/final_assignment'\n",
    "#set path to where the module is stored\n",
    "%cd '/Users/Bisa/Desktop/mlim_13/final_assignment'"
   ]
  },
  {
   "cell_type": "code",
   "execution_count": 13,
   "metadata": {},
   "outputs": [],
   "source": [
    "# data wrangling \n",
    "import pandas as pd\n",
    "import numpy as np\n",
    "import time\n",
    "\n",
    "# feature engineering \n",
    "import module_p2v\n",
    "from module_clustering import p2cluster\n",
    "\n",
    "import module_negatives\n",
    "\n",
    "import module_lags\n",
    "\n",
    "import module_generate_dataset \n",
    "from module_generate_dataset import generate_dataset\n",
    "\n",
    "# train-test-splitting\n",
    "import module_train_test_splitting\n",
    "from module_train_test_splitting import train_test_splitting\n",
    "\n",
    "# heuristic model \n",
    "import module_baseline_heuristic_model\n",
    "# modeling \n",
    "import lightgbm as lgbm\n",
    "import xgboost as xgb\n",
    "import pickle\n",
    "\n",
    "import module_lightgbm\n",
    "from module_lightgbm import predict_lightgbm\n",
    "\n",
    "# generate data set for week 90\n",
    "import module_week90_generate_dataset\n",
    "from module_week90_generate_dataset import week90_generate_dataset\n",
    "\n",
    "# evaluation \n",
    "from sklearn import metrics\n",
    "from sklearn.metrics import confusion_matrix\n",
    "from sklearn.model_selection import GridSearchCV\n",
    "from sklearn.metrics import roc_auc_score\n",
    "from sklearn.metrics import log_loss\n",
    "\n",
    "# visualiation\n",
    "import matplotlib.pyplot as plt\n",
    "import seaborn as sns\n",
    "\n",
    "# coupon recommendations \n",
    "import module_coupon_assignment \n",
    "from module_coupon_assignment import coupon_assignment"
   ]
  },
  {
   "cell_type": "markdown",
   "metadata": {},
   "source": [
    "## Data Set Creation and Feature Engineering"
   ]
  },
  {
   "cell_type": "markdown",
   "metadata": {},
   "source": [
    "### Basket Generation "
   ]
  },
  {
   "cell_type": "code",
   "execution_count": null,
   "metadata": {},
   "outputs": [],
   "source": [
    "df_baskets = pd.read_parquet(path_datasets + \"/baskets.parquet\")"
   ]
  },
  {
   "cell_type": "code",
   "execution_count": 34,
   "metadata": {},
   "outputs": [
    {
     "data": {
      "text/html": [
       "<div>\n",
       "<style scoped>\n",
       "    .dataframe tbody tr th:only-of-type {\n",
       "        vertical-align: middle;\n",
       "    }\n",
       "\n",
       "    .dataframe tbody tr th {\n",
       "        vertical-align: top;\n",
       "    }\n",
       "\n",
       "    .dataframe thead th {\n",
       "        text-align: right;\n",
       "    }\n",
       "</style>\n",
       "<table border=\"1\" class=\"dataframe\">\n",
       "  <thead>\n",
       "    <tr style=\"text-align: right;\">\n",
       "      <th></th>\n",
       "      <th>shopper</th>\n",
       "      <th>week</th>\n",
       "      <th>products</th>\n",
       "      <th>price</th>\n",
       "      <th>basket_size</th>\n",
       "    </tr>\n",
       "  </thead>\n",
       "  <tbody>\n",
       "    <tr>\n",
       "      <th>0</th>\n",
       "      <td>0</td>\n",
       "      <td>0</td>\n",
       "      <td>[71, 91, 116, 123, 157, 167, 171, 184, 207, 225]</td>\n",
       "      <td>5908</td>\n",
       "      <td>10</td>\n",
       "    </tr>\n",
       "    <tr>\n",
       "      <th>1</th>\n",
       "      <td>0</td>\n",
       "      <td>1</td>\n",
       "      <td>[71, 91, 130, 157, 167, 191, 225]</td>\n",
       "      <td>4109</td>\n",
       "      <td>7</td>\n",
       "    </tr>\n",
       "    <tr>\n",
       "      <th>2</th>\n",
       "      <td>0</td>\n",
       "      <td>2</td>\n",
       "      <td>[52, 67, 71, 87, 91, 130, 184, 211, 238]</td>\n",
       "      <td>5108</td>\n",
       "      <td>9</td>\n",
       "    </tr>\n",
       "    <tr>\n",
       "      <th>3</th>\n",
       "      <td>0</td>\n",
       "      <td>3</td>\n",
       "      <td>[71, 91, 123, 130, 179, 184, 214, 225]</td>\n",
       "      <td>4681</td>\n",
       "      <td>8</td>\n",
       "    </tr>\n",
       "    <tr>\n",
       "      <th>4</th>\n",
       "      <td>0</td>\n",
       "      <td>4</td>\n",
       "      <td>[48, 67, 76, 91, 116, 123, 184, 225]</td>\n",
       "      <td>4740</td>\n",
       "      <td>8</td>\n",
       "    </tr>\n",
       "  </tbody>\n",
       "</table>\n",
       "</div>"
      ],
      "text/plain": [
       "   shopper  week                                          products  price  \\\n",
       "0        0     0  [71, 91, 116, 123, 157, 167, 171, 184, 207, 225]   5908   \n",
       "1        0     1                 [71, 91, 130, 157, 167, 191, 225]   4109   \n",
       "2        0     2          [52, 67, 71, 87, 91, 130, 184, 211, 238]   5108   \n",
       "3        0     3            [71, 91, 123, 130, 179, 184, 214, 225]   4681   \n",
       "4        0     4              [48, 67, 76, 91, 116, 123, 184, 225]   4740   \n",
       "\n",
       "   basket_size  \n",
       "0           10  \n",
       "1            7  \n",
       "2            9  \n",
       "3            8  \n",
       "4            8  "
      ]
     },
     "execution_count": 34,
     "metadata": {},
     "output_type": "execute_result"
    }
   ],
   "source": [
    "# calculate weekly item list per shopper \n",
    "def create_baskets(input_purchases):\n",
    "    \"\"\"Calculate an item list of products per shopper per week\"\"\"\n",
    "    input_origin = input_purchases.copy()\n",
    "    input_purchases = (\n",
    "        input_purchases.groupby(by=[\"shopper\", \"week\"])\n",
    "        .agg({\"product\": lambda x: list(x), \"price\": sum})\n",
    "        .reset_index(drop=False)\n",
    "    )\n",
    "    input_purchases = input_purchases.rename(columns={\"product\": \"products\"})\n",
    "    input_purchases[\"basket_size\"] = input_purchases[\"products\"].apply(len)\n",
    "    return input_purchases, input_origin\n",
    "\n",
    "baskets, _ = create_baskets(df_baskets)\n",
    "baskets.head()"
   ]
  },
  {
   "cell_type": "markdown",
   "metadata": {},
   "source": [
    "### Categories Generation"
   ]
  },
  {
   "cell_type": "code",
   "execution_count": 47,
   "metadata": {},
   "outputs": [
    {
     "name": "stdout",
     "output_type": "stream",
     "text": [
      "Epoch #0\n",
      "Epoch #5\n",
      "Epoch #10\n",
      "Epoch #15\n",
      "Epoch #20\n",
      "Epoch #25\n",
      "Epoch #30\n",
      "Epoch #35\n",
      "Epoch #40\n",
      "Epoch #45\n",
      "Epoch #50\n",
      "Epoch #55\n",
      "Epoch #60\n",
      "Epoch #65\n",
      "Epoch #70\n",
      "Epoch #75\n",
      "Epoch #80\n",
      "Epoch #85\n",
      "Epoch #90\n",
      "Epoch #95\n"
     ]
    }
   ],
   "source": [
    "# train p2v model\n",
    "product_vector_model = module_p2v.p2v(baskets[\"products\"])\n",
    "product_vector_model.create_product_list()\n",
    "\n",
    "product_vector_model.train_p2v(vec_dim=30, epochs=100)"
   ]
  },
  {
   "cell_type": "code",
   "execution_count": 430,
   "metadata": {},
   "outputs": [
    {
     "name": "stdout",
     "output_type": "stream",
     "text": [
      "30-dimensional vector for 20:\n",
      "[ 16.91958     11.792615   -21.050528     7.352144     7.255684\n",
      "   1.0665644    9.210043    -4.9053097    5.138174    -1.5399554\n",
      " -15.364899    -2.210627     1.158818     4.2922053    5.387418\n",
      "   3.9973686   14.811209    -0.83350635   7.518798     5.9882135\n",
      " -11.342001     3.9756105  -16.87106      2.4546146   -3.8887858\n",
      " -10.50681      5.9898324    7.0195384   -4.0393276    7.58036   ]\n",
      "\n",
      "Most similar products for 20:\n",
      "[('29', 0.6650466322898865), ('23', 0.6482033729553223), ('22', 0.6268254518508911), ('27', 0.6112769246101379), ('25', 0.6083812713623047), ('21', 0.5770205855369568), ('26', 0.5235933065414429), ('28', 0.4557826519012451), ('24', 0.44312116503715515), ('232', 0.3516092002391815)]\n"
     ]
    }
   ],
   "source": [
    "product_vector_model.get_insights(20)"
   ]
  },
  {
   "cell_type": "code",
   "execution_count": 118,
   "metadata": {},
   "outputs": [],
   "source": [
    "# save backup\n",
    "# with open(\"product_vector_model.pickle\", \"wb\") as handle:\n",
    "#     pickle.dump(product_vector_model, handle)"
   ]
  },
  {
   "cell_type": "code",
   "execution_count": 4,
   "metadata": {},
   "outputs": [],
   "source": [
    "# with open(\"product_vector_model.pickle\", \"rb\") as handle:\n",
    "#     product_vector_model = pickle.load(handle)"
   ]
  },
  {
   "cell_type": "code",
   "execution_count": 85,
   "metadata": {},
   "outputs": [
    {
     "data": {
      "image/png": "[encoded data removed]",
      "text/plain": [
       "<Figure size 576x576 with 1 Axes>"
      ]
     },
     "metadata": {},
     "output_type": "display_data"
    }
   ],
   "source": [
    "p2cluster_model = p2cluster(product_vector_model.p2v_model)\n",
    "p2cluster_model.tsne_train()\n",
    "p2cluster_model.tsne_plot()"
   ]
  },
  {
   "cell_type": "code",
   "execution_count": 86,
   "metadata": {},
   "outputs": [
    {
     "data": {
      "image/png": "[encoded data removed]",
      "text/plain": [
       "<Figure size 576x396 with 2 Axes>"
      ]
     },
     "metadata": {},
     "output_type": "display_data"
    }
   ],
   "source": [
    "p2cluster_model.elbow_plot()"
   ]
  },
  {
   "cell_type": "code",
   "execution_count": 87,
   "metadata": {},
   "outputs": [
    {
     "data": {
      "image/png": "[encoded data removed]",
      "text/plain": [
       "<Figure size 576x396 with 1 Axes>"
      ]
     },
     "metadata": {},
     "output_type": "display_data"
    }
   ],
   "source": [
    "# set to 25 clusters\n",
    "p2cluster_model.train_cluster(25)\n",
    "p2cluster_model.clust_plot()"
   ]
  },
  {
   "cell_type": "code",
   "execution_count": 267,
   "metadata": {},
   "outputs": [
    {
     "data": {
      "text/html": [
       "<div>\n",
       "<style scoped>\n",
       "    .dataframe tbody tr th:only-of-type {\n",
       "        vertical-align: middle;\n",
       "    }\n",
       "\n",
       "    .dataframe tbody tr th {\n",
       "        vertical-align: top;\n",
       "    }\n",
       "\n",
       "    .dataframe thead th {\n",
       "        text-align: right;\n",
       "    }\n",
       "</style>\n",
       "<table border=\"1\" class=\"dataframe\">\n",
       "  <thead>\n",
       "    <tr style=\"text-align: right;\">\n",
       "      <th></th>\n",
       "      <th>tsne_x</th>\n",
       "      <th>tsne_y</th>\n",
       "      <th>product</th>\n",
       "      <th>category_label</th>\n",
       "    </tr>\n",
       "  </thead>\n",
       "  <tbody>\n",
       "    <tr>\n",
       "      <th>76</th>\n",
       "      <td>3.079960</td>\n",
       "      <td>34.391747</td>\n",
       "      <td>0</td>\n",
       "      <td>12</td>\n",
       "    </tr>\n",
       "    <tr>\n",
       "      <th>65</th>\n",
       "      <td>38.935280</td>\n",
       "      <td>-93.043007</td>\n",
       "      <td>1</td>\n",
       "      <td>3</td>\n",
       "    </tr>\n",
       "    <tr>\n",
       "      <th>175</th>\n",
       "      <td>48.395184</td>\n",
       "      <td>50.941959</td>\n",
       "      <td>2</td>\n",
       "      <td>22</td>\n",
       "    </tr>\n",
       "    <tr>\n",
       "      <th>206</th>\n",
       "      <td>-20.546894</td>\n",
       "      <td>-19.471403</td>\n",
       "      <td>3</td>\n",
       "      <td>24</td>\n",
       "    </tr>\n",
       "    <tr>\n",
       "      <th>37</th>\n",
       "      <td>-37.980141</td>\n",
       "      <td>3.057139</td>\n",
       "      <td>4</td>\n",
       "      <td>14</td>\n",
       "    </tr>\n",
       "  </tbody>\n",
       "</table>\n",
       "</div>"
      ],
      "text/plain": [
       "        tsne_x     tsne_y product  category_label\n",
       "76    3.079960  34.391747       0              12\n",
       "65   38.935280 -93.043007       1               3\n",
       "175  48.395184  50.941959       2              22\n",
       "206 -20.546894 -19.471403       3              24\n",
       "37  -37.980141   3.057139       4              14"
      ]
     },
     "execution_count": 267,
     "metadata": {},
     "output_type": "execute_result"
    }
   ],
   "source": [
    "product_categories = p2cluster_model.get_categories()\n",
    "product_categories.head()"
   ]
  },
  {
   "cell_type": "code",
   "execution_count": 312,
   "metadata": {},
   "outputs": [],
   "source": [
    "product_categories[[\"product\", \"category_label\"]].to_csv(\n",
    "    \"product_categories.csv\", index=False\n",
    ")"
   ]
  },
  {
   "cell_type": "markdown",
   "metadata": {},
   "source": [
    "### Preferences & Negative Samples"
   ]
  },
  {
   "cell_type": "code",
   "execution_count": 109,
   "metadata": {},
   "outputs": [],
   "source": [
    "# with open(\"baskets_product_list.pickle\", \"rb\") as handle:\n",
    "#     baskets = pickle.load(handle)"
   ]
  },
  {
   "cell_type": "code",
   "execution_count": 110,
   "metadata": {},
   "outputs": [
    {
     "data": {
      "text/html": [
       "<div>\n",
       "<style scoped>\n",
       "    .dataframe tbody tr th:only-of-type {\n",
       "        vertical-align: middle;\n",
       "    }\n",
       "\n",
       "    .dataframe tbody tr th {\n",
       "        vertical-align: top;\n",
       "    }\n",
       "\n",
       "    .dataframe thead th {\n",
       "        text-align: right;\n",
       "    }\n",
       "</style>\n",
       "<table border=\"1\" class=\"dataframe\">\n",
       "  <thead>\n",
       "    <tr style=\"text-align: right;\">\n",
       "      <th></th>\n",
       "      <th>shopper</th>\n",
       "      <th>week</th>\n",
       "      <th>products</th>\n",
       "      <th>price</th>\n",
       "      <th>basket_size</th>\n",
       "    </tr>\n",
       "  </thead>\n",
       "  <tbody>\n",
       "    <tr>\n",
       "      <th>0</th>\n",
       "      <td>0</td>\n",
       "      <td>0</td>\n",
       "      <td>[71, 91, 116, 123, 157, 167, 171, 184, 207, 225]</td>\n",
       "      <td>5908</td>\n",
       "      <td>10</td>\n",
       "    </tr>\n",
       "    <tr>\n",
       "      <th>1</th>\n",
       "      <td>0</td>\n",
       "      <td>1</td>\n",
       "      <td>[71, 91, 130, 157, 167, 191, 225]</td>\n",
       "      <td>4109</td>\n",
       "      <td>7</td>\n",
       "    </tr>\n",
       "    <tr>\n",
       "      <th>2</th>\n",
       "      <td>0</td>\n",
       "      <td>2</td>\n",
       "      <td>[52, 67, 71, 87, 91, 130, 184, 211, 238]</td>\n",
       "      <td>5108</td>\n",
       "      <td>9</td>\n",
       "    </tr>\n",
       "    <tr>\n",
       "      <th>3</th>\n",
       "      <td>0</td>\n",
       "      <td>3</td>\n",
       "      <td>[71, 91, 123, 130, 179, 184, 214, 225]</td>\n",
       "      <td>4681</td>\n",
       "      <td>8</td>\n",
       "    </tr>\n",
       "    <tr>\n",
       "      <th>4</th>\n",
       "      <td>0</td>\n",
       "      <td>4</td>\n",
       "      <td>[48, 67, 76, 91, 116, 123, 184, 225]</td>\n",
       "      <td>4740</td>\n",
       "      <td>8</td>\n",
       "    </tr>\n",
       "    <tr>\n",
       "      <th>...</th>\n",
       "      <td>...</td>\n",
       "      <td>...</td>\n",
       "      <td>...</td>\n",
       "      <td>...</td>\n",
       "      <td>...</td>\n",
       "    </tr>\n",
       "    <tr>\n",
       "      <th>179961</th>\n",
       "      <td>1999</td>\n",
       "      <td>85</td>\n",
       "      <td>[21, 48, 86, 144, 158, 168, 192]</td>\n",
       "      <td>3674</td>\n",
       "      <td>7</td>\n",
       "    </tr>\n",
       "    <tr>\n",
       "      <th>179962</th>\n",
       "      <td>1999</td>\n",
       "      <td>86</td>\n",
       "      <td>[4, 41, 64, 103, 132, 158, 220, 242]</td>\n",
       "      <td>4727</td>\n",
       "      <td>8</td>\n",
       "    </tr>\n",
       "    <tr>\n",
       "      <th>179963</th>\n",
       "      <td>1999</td>\n",
       "      <td>87</td>\n",
       "      <td>[31, 47, 50, 64, 86, 103, 158, 168, 194]</td>\n",
       "      <td>5344</td>\n",
       "      <td>9</td>\n",
       "    </tr>\n",
       "    <tr>\n",
       "      <th>179964</th>\n",
       "      <td>1999</td>\n",
       "      <td>88</td>\n",
       "      <td>[18, 47, 64, 144, 158, 168, 170, 192]</td>\n",
       "      <td>4712</td>\n",
       "      <td>8</td>\n",
       "    </tr>\n",
       "    <tr>\n",
       "      <th>179965</th>\n",
       "      <td>1999</td>\n",
       "      <td>89</td>\n",
       "      <td>[4, 29, 31, 46, 75, 108, 114, 131, 144, 158, 1...</td>\n",
       "      <td>7515</td>\n",
       "      <td>13</td>\n",
       "    </tr>\n",
       "  </tbody>\n",
       "</table>\n",
       "<p>179966 rows × 5 columns</p>\n",
       "</div>"
      ],
      "text/plain": [
       "        shopper  week                                           products  \\\n",
       "0             0     0   [71, 91, 116, 123, 157, 167, 171, 184, 207, 225]   \n",
       "1             0     1                  [71, 91, 130, 157, 167, 191, 225]   \n",
       "2             0     2           [52, 67, 71, 87, 91, 130, 184, 211, 238]   \n",
       "3             0     3             [71, 91, 123, 130, 179, 184, 214, 225]   \n",
       "4             0     4               [48, 67, 76, 91, 116, 123, 184, 225]   \n",
       "...         ...   ...                                                ...   \n",
       "179961     1999    85                   [21, 48, 86, 144, 158, 168, 192]   \n",
       "179962     1999    86               [4, 41, 64, 103, 132, 158, 220, 242]   \n",
       "179963     1999    87           [31, 47, 50, 64, 86, 103, 158, 168, 194]   \n",
       "179964     1999    88              [18, 47, 64, 144, 158, 168, 170, 192]   \n",
       "179965     1999    89  [4, 29, 31, 46, 75, 108, 114, 131, 144, 158, 1...   \n",
       "\n",
       "        price  basket_size  \n",
       "0        5908           10  \n",
       "1        4109            7  \n",
       "2        5108            9  \n",
       "3        4681            8  \n",
       "4        4740            8  \n",
       "...       ...          ...  \n",
       "179961   3674            7  \n",
       "179962   4727            8  \n",
       "179963   5344            9  \n",
       "179964   4712            8  \n",
       "179965   7515           13  \n",
       "\n",
       "[179966 rows x 5 columns]"
      ]
     },
     "execution_count": 110,
     "metadata": {},
     "output_type": "execute_result"
    }
   ],
   "source": [
    "# set to 0..1999 shoppers, since the final prediction only assigns coupons to these shoppers\n",
    "baskets = baskets[baskets[\"shopper\"]<2000]\n",
    "baskets"
   ]
  },
  {
   "cell_type": "code",
   "execution_count": 104,
   "metadata": {},
   "outputs": [
    {
     "data": {
      "text/plain": [
       "array([[ 0,  0,  0, ...,  0,  0, 13],\n",
       "       [ 6, 13,  0, ...,  0,  0,  6],\n",
       "       [ 0, 46,  0, ...,  0,  9,  5],\n",
       "       ...,\n",
       "       [ 0,  1,  0, ...,  0,  0,  6],\n",
       "       [ 0,  1,  1, ...,  1, 38,  0],\n",
       "       [ 0,  3,  0, ...,  0, 31,  0]], dtype=int8)"
      ]
     },
     "execution_count": 104,
     "metadata": {},
     "output_type": "execute_result"
    }
   ],
   "source": [
    "# calculate the total frequencies of product purchases per shopper per product\n",
    "negative_sampler = module_negatives.NegativeSampleGenerator(baskets,no_customers=2000)\n",
    "negative_sampler.calculate_frequencies()\n",
    "negative_sampler.get_total_frequency_without89()"
   ]
  },
  {
   "cell_type": "code",
   "execution_count": 111,
   "metadata": {},
   "outputs": [
    {
     "name": "stdout",
     "output_type": "stream",
     "text": [
      "0:\n",
      "[4, 11, 16, 38, 52, 56, 67, 71, 76, 81, 87, 91, 110, 116, 123, 130, 148, 157, 167, 171, 179, 181, 184, 191, 202, 207, 210, 211, 214, 225, 238, 244, 249]\n",
      "1:\n",
      "[0, 1, 4, 21, 22, 28, 33, 35, 36, 39, 42, 48, 50, 53, 63, 78, 83, 92, 94, 111, 116, 117, 125, 136, 142, 145, 146, 149, 156, 165, 168, 171, 182, 183, 189, 193, 199, 200, 209, 211, 212, 220, 228, 229, 235, 249]\n"
     ]
    }
   ],
   "source": [
    "# based on the frequencies: calculate the shopperXproduct combinations with a minimum purchase count of >=3\n",
    "preferences = negative_sampler.calculate_customer_preferences(min_frequency=3)\n",
    "negative_sampler.show_customer_preferences(2)"
   ]
  },
  {
   "cell_type": "code",
   "execution_count": 107,
   "metadata": {},
   "outputs": [
    {
     "name": "stdout",
     "output_type": "stream",
     "text": [
      "0% done.\n",
      "10% done.\n",
      "20% done.\n",
      "30% done.\n",
      "40% done.\n",
      "50% done.\n",
      "60% done.\n",
      "70% done.\n",
      "80% done.\n",
      "90% done.\n",
      "100% done.\n"
     ]
    }
   ],
   "source": [
    "# sample preferences products randomly in the size of the shoppers basket size of this week\n",
    "df_negative_samples = negative_sampler.generate()"
   ]
  },
  {
   "cell_type": "code",
   "execution_count": 108,
   "metadata": {},
   "outputs": [
    {
     "data": {
      "text/html": [
       "<div>\n",
       "<style scoped>\n",
       "    .dataframe tbody tr th:only-of-type {\n",
       "        vertical-align: middle;\n",
       "    }\n",
       "\n",
       "    .dataframe tbody tr th {\n",
       "        vertical-align: top;\n",
       "    }\n",
       "\n",
       "    .dataframe thead th {\n",
       "        text-align: right;\n",
       "    }\n",
       "</style>\n",
       "<table border=\"1\" class=\"dataframe\">\n",
       "  <thead>\n",
       "    <tr style=\"text-align: right;\">\n",
       "      <th></th>\n",
       "      <th>week</th>\n",
       "      <th>shopper</th>\n",
       "      <th>product</th>\n",
       "      <th>product_bought</th>\n",
       "    </tr>\n",
       "  </thead>\n",
       "  <tbody>\n",
       "    <tr>\n",
       "      <th>0</th>\n",
       "      <td>0</td>\n",
       "      <td>0</td>\n",
       "      <td>238</td>\n",
       "      <td>0</td>\n",
       "    </tr>\n",
       "    <tr>\n",
       "      <th>1</th>\n",
       "      <td>0</td>\n",
       "      <td>0</td>\n",
       "      <td>16</td>\n",
       "      <td>0</td>\n",
       "    </tr>\n",
       "    <tr>\n",
       "      <th>2</th>\n",
       "      <td>0</td>\n",
       "      <td>0</td>\n",
       "      <td>130</td>\n",
       "      <td>0</td>\n",
       "    </tr>\n",
       "    <tr>\n",
       "      <th>3</th>\n",
       "      <td>0</td>\n",
       "      <td>0</td>\n",
       "      <td>181</td>\n",
       "      <td>0</td>\n",
       "    </tr>\n",
       "    <tr>\n",
       "      <th>4</th>\n",
       "      <td>0</td>\n",
       "      <td>0</td>\n",
       "      <td>52</td>\n",
       "      <td>0</td>\n",
       "    </tr>\n",
       "  </tbody>\n",
       "</table>\n",
       "</div>"
      ],
      "text/plain": [
       "  week shopper product  product_bought\n",
       "0    0       0     238               0\n",
       "1    0       0      16               0\n",
       "2    0       0     130               0\n",
       "3    0       0     181               0\n",
       "4    0       0      52               0"
      ]
     },
     "execution_count": 108,
     "metadata": {},
     "output_type": "execute_result"
    }
   ],
   "source": [
    "df_negative_samples.head()"
   ]
  },
  {
   "cell_type": "code",
   "execution_count": null,
   "metadata": {},
   "outputs": [],
   "source": [
    "df_negative_samples.to_parquet(\"df_negative_samples.parquet\")"
   ]
  },
  {
   "cell_type": "code",
   "execution_count": 315,
   "metadata": {},
   "outputs": [],
   "source": [
    "# with open(\"preferences_min3.pickle\", \"wb\") as handle:\n",
    "#     pickle.dump(preferences, handle)"
   ]
  },
  {
   "cell_type": "code",
   "execution_count": 34,
   "metadata": {},
   "outputs": [],
   "source": [
    "# with open(\"df_negative_samples.pickle\", \"wb\") as handle:\n",
    "#     pickle.dump(df_negative_samples, handle)"
   ]
  },
  {
   "cell_type": "markdown",
   "metadata": {},
   "source": [
    "### Product Sampling (Week 90)"
   ]
  },
  {
   "cell_type": "code",
   "execution_count": 3,
   "metadata": {},
   "outputs": [],
   "source": [
    "# with open(\"preferences_min3.pickle\", \"rb\") as handle:\n",
    "#     consumers_preferences = pickle.load(handle)"
   ]
  },
  {
   "cell_type": "code",
   "execution_count": 113,
   "metadata": {},
   "outputs": [],
   "source": [
    "consumers_preferences = negative_sampler.cons_preferences"
   ]
  },
  {
   "cell_type": "code",
   "execution_count": 4,
   "metadata": {},
   "outputs": [],
   "source": [
    "# sample all preferenced products with min_frequency >=3 per shopper for week 90\n",
    "def create_week_90_products():\n",
    "    df_90 = pd.DataFrame(columns=[\"week\", \"shopper\", \"product\", \"product_bought\"])\n",
    "    for customer in range(2000):\n",
    "        for pref in consumers_preferences[customer]:\n",
    "            df_90 = df_90.append({\"week\": 90 ,\n",
    "                                 \"shopper\": customer,\n",
    "                                 \"product\": pref,\n",
    "                                 \"product_bought\":0},ignore_index=True)\n",
    "    return df_90\n",
    "\n",
    "df_90 = create_week_90_products()"
   ]
  },
  {
   "cell_type": "code",
   "execution_count": 6,
   "metadata": {},
   "outputs": [
    {
     "data": {
      "text/plain": [
       "2000"
      ]
     },
     "execution_count": 6,
     "metadata": {},
     "output_type": "execute_result"
    }
   ],
   "source": [
    "df_90[\"shopper\"].nunique()"
   ]
  },
  {
   "cell_type": "code",
   "execution_count": 7,
   "metadata": {},
   "outputs": [],
   "source": [
    "df_90.to_parquet(\"df_90.parquet\")"
   ]
  },
  {
   "cell_type": "markdown",
   "metadata": {},
   "source": [
    "### Lagged Features"
   ]
  },
  {
   "cell_type": "code",
   "execution_count": 14,
   "metadata": {},
   "outputs": [],
   "source": [
    "df_coupons = pd.read_parquet(path_datasets + \"/coupons.parquet\")\n",
    "df_full = pd.merge(df_baskets[df_baskets[\"shopper\"]<2000], df_coupons[df_coupons[\"shopper\"]<2000], on=['week', 'shopper', 'product'], how='outer')\n",
    "df_full['product_bought'] = np.where(df_full['price'].isna(), 0, 1)\n",
    "df_full = df_full[[\"week\",\"shopper\",\"product\",\"product_bought\"]]\n",
    "# df_90 = pd.read_parquet(\"df_90.parquet\") # only re-read if required\n",
    "df_full = pd.concat([df_full, df_90], ignore_index=True)"
   ]
  },
  {
   "cell_type": "code",
   "execution_count": 46,
   "metadata": {},
   "outputs": [
    {
     "data": {
      "text/html": [
       "<div>\n",
       "<style scoped>\n",
       "    .dataframe tbody tr th:only-of-type {\n",
       "        vertical-align: middle;\n",
       "    }\n",
       "\n",
       "    .dataframe tbody tr th {\n",
       "        vertical-align: top;\n",
       "    }\n",
       "\n",
       "    .dataframe thead th {\n",
       "        text-align: right;\n",
       "    }\n",
       "</style>\n",
       "<table border=\"1\" class=\"dataframe\">\n",
       "  <thead>\n",
       "    <tr style=\"text-align: right;\">\n",
       "      <th></th>\n",
       "      <th>week</th>\n",
       "      <th>shopper</th>\n",
       "      <th>product</th>\n",
       "      <th>product_bought</th>\n",
       "    </tr>\n",
       "  </thead>\n",
       "  <tbody>\n",
       "    <tr>\n",
       "      <th>0</th>\n",
       "      <td>0</td>\n",
       "      <td>0</td>\n",
       "      <td>5</td>\n",
       "      <td>0</td>\n",
       "    </tr>\n",
       "    <tr>\n",
       "      <th>1</th>\n",
       "      <td>0</td>\n",
       "      <td>0</td>\n",
       "      <td>16</td>\n",
       "      <td>0</td>\n",
       "    </tr>\n",
       "    <tr>\n",
       "      <th>2</th>\n",
       "      <td>0</td>\n",
       "      <td>0</td>\n",
       "      <td>27</td>\n",
       "      <td>0</td>\n",
       "    </tr>\n",
       "    <tr>\n",
       "      <th>3</th>\n",
       "      <td>0</td>\n",
       "      <td>0</td>\n",
       "      <td>35</td>\n",
       "      <td>0</td>\n",
       "    </tr>\n",
       "    <tr>\n",
       "      <th>4</th>\n",
       "      <td>0</td>\n",
       "      <td>0</td>\n",
       "      <td>52</td>\n",
       "      <td>0</td>\n",
       "    </tr>\n",
       "    <tr>\n",
       "      <th>...</th>\n",
       "      <td>...</td>\n",
       "      <td>...</td>\n",
       "      <td>...</td>\n",
       "      <td>...</td>\n",
       "    </tr>\n",
       "    <tr>\n",
       "      <th>3665492</th>\n",
       "      <td>90</td>\n",
       "      <td>1999</td>\n",
       "      <td>228</td>\n",
       "      <td>0</td>\n",
       "    </tr>\n",
       "    <tr>\n",
       "      <th>3665493</th>\n",
       "      <td>90</td>\n",
       "      <td>1999</td>\n",
       "      <td>237</td>\n",
       "      <td>0</td>\n",
       "    </tr>\n",
       "    <tr>\n",
       "      <th>3665494</th>\n",
       "      <td>90</td>\n",
       "      <td>1999</td>\n",
       "      <td>242</td>\n",
       "      <td>0</td>\n",
       "    </tr>\n",
       "    <tr>\n",
       "      <th>3665495</th>\n",
       "      <td>90</td>\n",
       "      <td>1999</td>\n",
       "      <td>245</td>\n",
       "      <td>0</td>\n",
       "    </tr>\n",
       "    <tr>\n",
       "      <th>3665496</th>\n",
       "      <td>90</td>\n",
       "      <td>1999</td>\n",
       "      <td>249</td>\n",
       "      <td>0</td>\n",
       "    </tr>\n",
       "  </tbody>\n",
       "</table>\n",
       "<p>3665497 rows × 4 columns</p>\n",
       "</div>"
      ],
      "text/plain": [
       "         week  shopper  product  product_bought\n",
       "0           0        0        5               0\n",
       "1           0        0       16               0\n",
       "2           0        0       27               0\n",
       "3           0        0       35               0\n",
       "4           0        0       52               0\n",
       "...       ...      ...      ...             ...\n",
       "3665492    90     1999      228               0\n",
       "3665493    90     1999      237               0\n",
       "3665494    90     1999      242               0\n",
       "3665495    90     1999      245               0\n",
       "3665496    90     1999      249               0\n",
       "\n",
       "[3665497 rows x 4 columns]"
      ]
     },
     "execution_count": 46,
     "metadata": {},
     "output_type": "execute_result"
    }
   ],
   "source": [
    "df_full"
   ]
  },
  {
   "cell_type": "code",
   "execution_count": 48,
   "metadata": {},
   "outputs": [],
   "source": [
    "purchase_lags = module_lags.LagCalculator(\n",
    "    df_full[[\"shopper\", \"product\", \"week\", \"product_bought\"]]\n",
    "    .sort_values(by=[\"shopper\", \"product\", \"week\"], ascending=[True, True, True])\n",
    "    .reset_index(drop=True)\n",
    ")"
   ]
  },
  {
   "cell_type": "code",
   "execution_count": 49,
   "metadata": {},
   "outputs": [
    {
     "name": "stdout",
     "output_type": "stream",
     "text": [
      "0% done.\n",
      "10% done.\n",
      "20% done.\n",
      "30% done.\n",
      "40% done.\n",
      "50% done.\n",
      "60% done.\n",
      "70% done.\n",
      "80% done.\n",
      "90% done.\n"
     ]
    }
   ],
   "source": [
    "lags = purchase_lags.calculate_lags()"
   ]
  },
  {
   "cell_type": "code",
   "execution_count": 50,
   "metadata": {},
   "outputs": [
    {
     "data": {
      "text/html": [
       "<div>\n",
       "<style scoped>\n",
       "    .dataframe tbody tr th:only-of-type {\n",
       "        vertical-align: middle;\n",
       "    }\n",
       "\n",
       "    .dataframe tbody tr th {\n",
       "        vertical-align: top;\n",
       "    }\n",
       "\n",
       "    .dataframe thead th {\n",
       "        text-align: right;\n",
       "    }\n",
       "</style>\n",
       "<table border=\"1\" class=\"dataframe\">\n",
       "  <thead>\n",
       "    <tr style=\"text-align: right;\">\n",
       "      <th></th>\n",
       "      <th>shopper</th>\n",
       "      <th>product</th>\n",
       "      <th>week</th>\n",
       "      <th>product_bought</th>\n",
       "      <th>lag_weeks_of_product_per_customer</th>\n",
       "    </tr>\n",
       "  </thead>\n",
       "  <tbody>\n",
       "    <tr>\n",
       "      <th>3001</th>\n",
       "      <td>1</td>\n",
       "      <td>146</td>\n",
       "      <td>5</td>\n",
       "      <td>0</td>\n",
       "      <td>4</td>\n",
       "    </tr>\n",
       "    <tr>\n",
       "      <th>3002</th>\n",
       "      <td>1</td>\n",
       "      <td>146</td>\n",
       "      <td>7</td>\n",
       "      <td>0</td>\n",
       "      <td>6</td>\n",
       "    </tr>\n",
       "    <tr>\n",
       "      <th>3003</th>\n",
       "      <td>1</td>\n",
       "      <td>146</td>\n",
       "      <td>8</td>\n",
       "      <td>0</td>\n",
       "      <td>7</td>\n",
       "    </tr>\n",
       "    <tr>\n",
       "      <th>3004</th>\n",
       "      <td>1</td>\n",
       "      <td>146</td>\n",
       "      <td>11</td>\n",
       "      <td>1</td>\n",
       "      <td>10</td>\n",
       "    </tr>\n",
       "    <tr>\n",
       "      <th>3005</th>\n",
       "      <td>1</td>\n",
       "      <td>146</td>\n",
       "      <td>12</td>\n",
       "      <td>0</td>\n",
       "      <td>1</td>\n",
       "    </tr>\n",
       "  </tbody>\n",
       "</table>\n",
       "</div>"
      ],
      "text/plain": [
       "      shopper  product  week  product_bought  \\\n",
       "3001        1      146     5               0   \n",
       "3002        1      146     7               0   \n",
       "3003        1      146     8               0   \n",
       "3004        1      146    11               1   \n",
       "3005        1      146    12               0   \n",
       "\n",
       "      lag_weeks_of_product_per_customer  \n",
       "3001                                  4  \n",
       "3002                                  6  \n",
       "3003                                  7  \n",
       "3004                                 10  \n",
       "3005                                  1  "
      ]
     },
     "execution_count": 50,
     "metadata": {},
     "output_type": "execute_result"
    }
   ],
   "source": [
    "lags.iloc[3001:3006]"
   ]
  },
  {
   "cell_type": "code",
   "execution_count": 51,
   "metadata": {},
   "outputs": [],
   "source": [
    "# replace \"product_bought\" of week 90 with NaN's\n",
    "lags.loc[lags['week']==90,['product_bought']] = np.nan"
   ]
  },
  {
   "cell_type": "code",
   "execution_count": 41,
   "metadata": {},
   "outputs": [
    {
     "data": {
      "text/html": [
       "<div>\n",
       "<style scoped>\n",
       "    .dataframe tbody tr th:only-of-type {\n",
       "        vertical-align: middle;\n",
       "    }\n",
       "\n",
       "    .dataframe tbody tr th {\n",
       "        vertical-align: top;\n",
       "    }\n",
       "\n",
       "    .dataframe thead th {\n",
       "        text-align: right;\n",
       "    }\n",
       "</style>\n",
       "<table border=\"1\" class=\"dataframe\">\n",
       "  <thead>\n",
       "    <tr style=\"text-align: right;\">\n",
       "      <th></th>\n",
       "      <th>shopper</th>\n",
       "      <th>product</th>\n",
       "      <th>purchase_temporal_distribution</th>\n",
       "    </tr>\n",
       "  </thead>\n",
       "  <tbody>\n",
       "    <tr>\n",
       "      <th>0</th>\n",
       "      <td>0</td>\n",
       "      <td>4</td>\n",
       "      <td>50.250000</td>\n",
       "    </tr>\n",
       "    <tr>\n",
       "      <th>1</th>\n",
       "      <td>0</td>\n",
       "      <td>11</td>\n",
       "      <td>59.666667</td>\n",
       "    </tr>\n",
       "    <tr>\n",
       "      <th>2</th>\n",
       "      <td>0</td>\n",
       "      <td>15</td>\n",
       "      <td>10.000000</td>\n",
       "    </tr>\n",
       "    <tr>\n",
       "      <th>3</th>\n",
       "      <td>0</td>\n",
       "      <td>16</td>\n",
       "      <td>45.000000</td>\n",
       "    </tr>\n",
       "    <tr>\n",
       "      <th>4</th>\n",
       "      <td>0</td>\n",
       "      <td>21</td>\n",
       "      <td>86.000000</td>\n",
       "    </tr>\n",
       "  </tbody>\n",
       "</table>\n",
       "</div>"
      ],
      "text/plain": [
       "   shopper  product  purchase_temporal_distribution\n",
       "0        0        4                       50.250000\n",
       "1        0       11                       59.666667\n",
       "2        0       15                       10.000000\n",
       "3        0       16                       45.000000\n",
       "4        0       21                       86.000000"
      ]
     },
     "execution_count": 41,
     "metadata": {},
     "output_type": "execute_result"
    }
   ],
   "source": [
    "lags['week'] = lags['week'].astype('int32')\n",
    "purchase_temporal_distribution = purchase_lags.calculate_purchase_temporal_distribution(lags)\n",
    "purchase_temporal_distribution.head()"
   ]
  },
  {
   "cell_type": "code",
   "execution_count": 42,
   "metadata": {},
   "outputs": [
    {
     "data": {
      "text/html": [
       "<div>\n",
       "<style scoped>\n",
       "    .dataframe tbody tr th:only-of-type {\n",
       "        vertical-align: middle;\n",
       "    }\n",
       "\n",
       "    .dataframe tbody tr th {\n",
       "        vertical-align: top;\n",
       "    }\n",
       "\n",
       "    .dataframe thead th {\n",
       "        text-align: right;\n",
       "    }\n",
       "</style>\n",
       "<table border=\"1\" class=\"dataframe\">\n",
       "  <thead>\n",
       "    <tr style=\"text-align: right;\">\n",
       "      <th></th>\n",
       "      <th>shopper</th>\n",
       "      <th>product</th>\n",
       "      <th>avg_no_weeks_between_two_purchases</th>\n",
       "    </tr>\n",
       "  </thead>\n",
       "  <tbody>\n",
       "    <tr>\n",
       "      <th>0</th>\n",
       "      <td>0</td>\n",
       "      <td>4</td>\n",
       "      <td>5.625000</td>\n",
       "    </tr>\n",
       "    <tr>\n",
       "      <th>1</th>\n",
       "      <td>0</td>\n",
       "      <td>11</td>\n",
       "      <td>6.777778</td>\n",
       "    </tr>\n",
       "    <tr>\n",
       "      <th>2</th>\n",
       "      <td>0</td>\n",
       "      <td>15</td>\n",
       "      <td>-1.000000</td>\n",
       "    </tr>\n",
       "    <tr>\n",
       "      <th>3</th>\n",
       "      <td>0</td>\n",
       "      <td>16</td>\n",
       "      <td>15.500000</td>\n",
       "    </tr>\n",
       "    <tr>\n",
       "      <th>4</th>\n",
       "      <td>0</td>\n",
       "      <td>21</td>\n",
       "      <td>-1.000000</td>\n",
       "    </tr>\n",
       "  </tbody>\n",
       "</table>\n",
       "</div>"
      ],
      "text/plain": [
       "   shopper  product  avg_no_weeks_between_two_purchases\n",
       "0        0        4                            5.625000\n",
       "1        0       11                            6.777778\n",
       "2        0       15                           -1.000000\n",
       "3        0       16                           15.500000\n",
       "4        0       21                           -1.000000"
      ]
     },
     "execution_count": 42,
     "metadata": {},
     "output_type": "execute_result"
    }
   ],
   "source": [
    "avg_no_weeks_between_two_purchases = purchase_lags.calculate_avg_no_weeks_between_two_purchases(lags)\n",
    "avg_no_weeks_between_two_purchases.head()"
   ]
  },
  {
   "cell_type": "code",
   "execution_count": 52,
   "metadata": {},
   "outputs": [],
   "source": [
    "# export\n",
    "lags.to_parquet(\"lags.parquet\")\n",
    "purchase_temporal_distribution.to_parquet(\"purchase_temporal_distribution.parquet\")\n",
    "avg_no_weeks_between_two_purchases.to_parquet(\"avg_no_weeks_between_two_purchases.parquet\")"
   ]
  },
  {
   "cell_type": "code",
   "execution_count": 44,
   "metadata": {},
   "outputs": [
    {
     "data": {
      "text/html": [
       "<div>\n",
       "<style scoped>\n",
       "    .dataframe tbody tr th:only-of-type {\n",
       "        vertical-align: middle;\n",
       "    }\n",
       "\n",
       "    .dataframe tbody tr th {\n",
       "        vertical-align: top;\n",
       "    }\n",
       "\n",
       "    .dataframe thead th {\n",
       "        text-align: right;\n",
       "    }\n",
       "</style>\n",
       "<table border=\"1\" class=\"dataframe\">\n",
       "  <thead>\n",
       "    <tr style=\"text-align: right;\">\n",
       "      <th></th>\n",
       "      <th>shopper</th>\n",
       "      <th>product</th>\n",
       "      <th>week</th>\n",
       "      <th>product_bought</th>\n",
       "      <th>lag_weeks_of_product_per_customer</th>\n",
       "    </tr>\n",
       "  </thead>\n",
       "  <tbody>\n",
       "    <tr>\n",
       "      <th>606545</th>\n",
       "      <td>333</td>\n",
       "      <td>20</td>\n",
       "      <td>66</td>\n",
       "      <td>0.0</td>\n",
       "      <td>-1</td>\n",
       "    </tr>\n",
       "    <tr>\n",
       "      <th>606738</th>\n",
       "      <td>333</td>\n",
       "      <td>41</td>\n",
       "      <td>66</td>\n",
       "      <td>0.0</td>\n",
       "      <td>5</td>\n",
       "    </tr>\n",
       "    <tr>\n",
       "      <th>606815</th>\n",
       "      <td>333</td>\n",
       "      <td>48</td>\n",
       "      <td>66</td>\n",
       "      <td>0.0</td>\n",
       "      <td>1</td>\n",
       "    </tr>\n",
       "    <tr>\n",
       "      <th>606836</th>\n",
       "      <td>333</td>\n",
       "      <td>51</td>\n",
       "      <td>66</td>\n",
       "      <td>0.0</td>\n",
       "      <td>-1</td>\n",
       "    </tr>\n",
       "    <tr>\n",
       "      <th>606911</th>\n",
       "      <td>333</td>\n",
       "      <td>60</td>\n",
       "      <td>66</td>\n",
       "      <td>1.0</td>\n",
       "      <td>3</td>\n",
       "    </tr>\n",
       "    <tr>\n",
       "      <th>607021</th>\n",
       "      <td>333</td>\n",
       "      <td>80</td>\n",
       "      <td>66</td>\n",
       "      <td>0.0</td>\n",
       "      <td>-1</td>\n",
       "    </tr>\n",
       "    <tr>\n",
       "      <th>607302</th>\n",
       "      <td>333</td>\n",
       "      <td>129</td>\n",
       "      <td>66</td>\n",
       "      <td>0.0</td>\n",
       "      <td>8</td>\n",
       "    </tr>\n",
       "    <tr>\n",
       "      <th>607341</th>\n",
       "      <td>333</td>\n",
       "      <td>132</td>\n",
       "      <td>66</td>\n",
       "      <td>0.0</td>\n",
       "      <td>6</td>\n",
       "    </tr>\n",
       "    <tr>\n",
       "      <th>607401</th>\n",
       "      <td>333</td>\n",
       "      <td>137</td>\n",
       "      <td>66</td>\n",
       "      <td>1.0</td>\n",
       "      <td>3</td>\n",
       "    </tr>\n",
       "    <tr>\n",
       "      <th>607500</th>\n",
       "      <td>333</td>\n",
       "      <td>144</td>\n",
       "      <td>66</td>\n",
       "      <td>1.0</td>\n",
       "      <td>12</td>\n",
       "    </tr>\n",
       "    <tr>\n",
       "      <th>607589</th>\n",
       "      <td>333</td>\n",
       "      <td>155</td>\n",
       "      <td>66</td>\n",
       "      <td>0.0</td>\n",
       "      <td>5</td>\n",
       "    </tr>\n",
       "    <tr>\n",
       "      <th>607599</th>\n",
       "      <td>333</td>\n",
       "      <td>156</td>\n",
       "      <td>66</td>\n",
       "      <td>0.0</td>\n",
       "      <td>-1</td>\n",
       "    </tr>\n",
       "    <tr>\n",
       "      <th>607804</th>\n",
       "      <td>333</td>\n",
       "      <td>187</td>\n",
       "      <td>66</td>\n",
       "      <td>0.0</td>\n",
       "      <td>-1</td>\n",
       "    </tr>\n",
       "    <tr>\n",
       "      <th>607881</th>\n",
       "      <td>333</td>\n",
       "      <td>192</td>\n",
       "      <td>66</td>\n",
       "      <td>1.0</td>\n",
       "      <td>1</td>\n",
       "    </tr>\n",
       "    <tr>\n",
       "      <th>608025</th>\n",
       "      <td>333</td>\n",
       "      <td>220</td>\n",
       "      <td>66</td>\n",
       "      <td>0.0</td>\n",
       "      <td>5</td>\n",
       "    </tr>\n",
       "    <tr>\n",
       "      <th>608115</th>\n",
       "      <td>333</td>\n",
       "      <td>227</td>\n",
       "      <td>66</td>\n",
       "      <td>1.0</td>\n",
       "      <td>11</td>\n",
       "    </tr>\n",
       "    <tr>\n",
       "      <th>608243</th>\n",
       "      <td>333</td>\n",
       "      <td>246</td>\n",
       "      <td>66</td>\n",
       "      <td>1.0</td>\n",
       "      <td>2</td>\n",
       "    </tr>\n",
       "  </tbody>\n",
       "</table>\n",
       "</div>"
      ],
      "text/plain": [
       "        shopper  product  week  product_bought  \\\n",
       "606545      333       20    66             0.0   \n",
       "606738      333       41    66             0.0   \n",
       "606815      333       48    66             0.0   \n",
       "606836      333       51    66             0.0   \n",
       "606911      333       60    66             1.0   \n",
       "607021      333       80    66             0.0   \n",
       "607302      333      129    66             0.0   \n",
       "607341      333      132    66             0.0   \n",
       "607401      333      137    66             1.0   \n",
       "607500      333      144    66             1.0   \n",
       "607589      333      155    66             0.0   \n",
       "607599      333      156    66             0.0   \n",
       "607804      333      187    66             0.0   \n",
       "607881      333      192    66             1.0   \n",
       "608025      333      220    66             0.0   \n",
       "608115      333      227    66             1.0   \n",
       "608243      333      246    66             1.0   \n",
       "\n",
       "        lag_weeks_of_product_per_customer  \n",
       "606545                                 -1  \n",
       "606738                                  5  \n",
       "606815                                  1  \n",
       "606836                                 -1  \n",
       "606911                                  3  \n",
       "607021                                 -1  \n",
       "607302                                  8  \n",
       "607341                                  6  \n",
       "607401                                  3  \n",
       "607500                                 12  \n",
       "607589                                  5  \n",
       "607599                                 -1  \n",
       "607804                                 -1  \n",
       "607881                                  1  \n",
       "608025                                  5  \n",
       "608115                                 11  \n",
       "608243                                  2  "
      ]
     },
     "execution_count": 44,
     "metadata": {},
     "output_type": "execute_result"
    }
   ],
   "source": [
    "# example\n",
    "lags[(lags[\"shopper\"]==333) & (lags[\"week\"]==66)]"
   ]
  },
  {
   "cell_type": "markdown",
   "metadata": {},
   "source": [
    "## Final Data Set Creation \n",
    "\n",
    "**In case the data sets are already loaded, proceed with code starting at 'Train-Test-Split'**\n",
    "\n",
    "* Prerequisites: the following data frames are needed. They shoud be named:\n",
    "    * baskets.parquet (provided/downloaded)\n",
    "    * coupons.parquet (provided/downloaded)\n",
    "    * df_negative_samples.parquet (created)\n",
    "    * product_categories.csv (created)\n",
    "    * avg_no_weeks_between_two_purchases.parquet (created)\n",
    "    * lags.parquet (created)\n",
    "    * purchase_temporal_distribution.parquet (created)"
   ]
  },
  {
   "cell_type": "code",
   "execution_count": 38,
   "metadata": {},
   "outputs": [
    {
     "name": "stdout",
     "output_type": "stream",
     "text": [
      "The dataframes should be named: \n",
      "baskets.parquet, \n",
      "coupons.parquet, \n",
      "df_negative_samples.parquet, \n",
      "product_categories.csv, \n",
      "avg_no_weeks_between_two_purchases.parquet, \n",
      "lags.parquet and \n",
      "purchase_temporal_distribution.parquet\n",
      "\n",
      "Data sets (train and test) are generated and saved as a parquet file to: /Users/asmir/mlim_project/mlim/exercises/assignment\n"
     ]
    }
   ],
   "source": [
    "#the module outputs two dataframes: the train and test dataset\n",
    "#generate_dataset(path, train_start, train_end, test_start, test_end)\n",
    "\n",
    "train, test = generate_dataset(path_datasets, 0, 88, 1, 89)"
   ]
  },
  {
   "cell_type": "code",
   "execution_count": 39,
   "metadata": {},
   "outputs": [
    {
     "data": {
      "text/html": [
       "<div>\n",
       "<style scoped>\n",
       "    .dataframe tbody tr th:only-of-type {\n",
       "        vertical-align: middle;\n",
       "    }\n",
       "\n",
       "    .dataframe tbody tr th {\n",
       "        vertical-align: top;\n",
       "    }\n",
       "\n",
       "    .dataframe thead th {\n",
       "        text-align: right;\n",
       "    }\n",
       "</style>\n",
       "<table border=\"1\" class=\"dataframe\">\n",
       "  <thead>\n",
       "    <tr style=\"text-align: right;\">\n",
       "      <th></th>\n",
       "      <th>week</th>\n",
       "      <th>shopper</th>\n",
       "      <th>product</th>\n",
       "      <th>price</th>\n",
       "      <th>discount</th>\n",
       "      <th>product_bought</th>\n",
       "      <th>category_label</th>\n",
       "      <th>avg_no_weeks_between_two_purchases</th>\n",
       "      <th>lag_weeks_of_product_per_customer</th>\n",
       "      <th>purchase_temporal_distribution</th>\n",
       "      <th>...</th>\n",
       "      <th>customer_prod_bought_dis_share</th>\n",
       "      <th>customer_prod_dis_offers</th>\n",
       "      <th>customer_prod_dis_offered_share</th>\n",
       "      <th>customer_product_share</th>\n",
       "      <th>customer_mean_product_price</th>\n",
       "      <th>customer_discount_buy_share</th>\n",
       "      <th>week_basket_size</th>\n",
       "      <th>week_basket_value</th>\n",
       "      <th>mean_basket_size</th>\n",
       "      <th>mean_basket_value</th>\n",
       "    </tr>\n",
       "  </thead>\n",
       "  <tbody>\n",
       "    <tr>\n",
       "      <th>0</th>\n",
       "      <td>0</td>\n",
       "      <td>0</td>\n",
       "      <td>5</td>\n",
       "      <td>504.7</td>\n",
       "      <td>30.0</td>\n",
       "      <td>0</td>\n",
       "      <td>12</td>\n",
       "      <td>-1.000000</td>\n",
       "      <td>-1.0</td>\n",
       "      <td>-1.000000</td>\n",
       "      <td>...</td>\n",
       "      <td>-1.0</td>\n",
       "      <td>2</td>\n",
       "      <td>0.0</td>\n",
       "      <td>-1.000000</td>\n",
       "      <td>587.203947</td>\n",
       "      <td>0.030263</td>\n",
       "      <td>10.0</td>\n",
       "      <td>5908.0</td>\n",
       "      <td>8.978947</td>\n",
       "      <td>5271.6</td>\n",
       "    </tr>\n",
       "    <tr>\n",
       "      <th>1</th>\n",
       "      <td>0</td>\n",
       "      <td>0</td>\n",
       "      <td>16</td>\n",
       "      <td>743.0</td>\n",
       "      <td>0.0</td>\n",
       "      <td>0</td>\n",
       "      <td>13</td>\n",
       "      <td>15.500000</td>\n",
       "      <td>-1.0</td>\n",
       "      <td>45.000000</td>\n",
       "      <td>...</td>\n",
       "      <td>0.5</td>\n",
       "      <td>39</td>\n",
       "      <td>0.5</td>\n",
       "      <td>0.005263</td>\n",
       "      <td>587.203947</td>\n",
       "      <td>0.030263</td>\n",
       "      <td>10.0</td>\n",
       "      <td>5908.0</td>\n",
       "      <td>8.978947</td>\n",
       "      <td>5271.6</td>\n",
       "    </tr>\n",
       "    <tr>\n",
       "      <th>2</th>\n",
       "      <td>0</td>\n",
       "      <td>0</td>\n",
       "      <td>27</td>\n",
       "      <td>407.4</td>\n",
       "      <td>30.0</td>\n",
       "      <td>0</td>\n",
       "      <td>4</td>\n",
       "      <td>-1.000000</td>\n",
       "      <td>-1.0</td>\n",
       "      <td>-1.000000</td>\n",
       "      <td>...</td>\n",
       "      <td>-1.0</td>\n",
       "      <td>3</td>\n",
       "      <td>0.0</td>\n",
       "      <td>-1.000000</td>\n",
       "      <td>587.203947</td>\n",
       "      <td>0.030263</td>\n",
       "      <td>10.0</td>\n",
       "      <td>5908.0</td>\n",
       "      <td>8.978947</td>\n",
       "      <td>5271.6</td>\n",
       "    </tr>\n",
       "    <tr>\n",
       "      <th>3</th>\n",
       "      <td>0</td>\n",
       "      <td>0</td>\n",
       "      <td>35</td>\n",
       "      <td>391.3</td>\n",
       "      <td>35.0</td>\n",
       "      <td>0</td>\n",
       "      <td>9</td>\n",
       "      <td>-1.000000</td>\n",
       "      <td>-1.0</td>\n",
       "      <td>-1.000000</td>\n",
       "      <td>...</td>\n",
       "      <td>-1.0</td>\n",
       "      <td>3</td>\n",
       "      <td>0.0</td>\n",
       "      <td>-1.000000</td>\n",
       "      <td>587.203947</td>\n",
       "      <td>0.030263</td>\n",
       "      <td>10.0</td>\n",
       "      <td>5908.0</td>\n",
       "      <td>8.978947</td>\n",
       "      <td>5271.6</td>\n",
       "    </tr>\n",
       "    <tr>\n",
       "      <th>4</th>\n",
       "      <td>0</td>\n",
       "      <td>0</td>\n",
       "      <td>52</td>\n",
       "      <td>607.0</td>\n",
       "      <td>0.0</td>\n",
       "      <td>0</td>\n",
       "      <td>7</td>\n",
       "      <td>9.111111</td>\n",
       "      <td>-1.0</td>\n",
       "      <td>38.555556</td>\n",
       "      <td>...</td>\n",
       "      <td>0.0</td>\n",
       "      <td>38</td>\n",
       "      <td>0.0</td>\n",
       "      <td>0.011842</td>\n",
       "      <td>587.203947</td>\n",
       "      <td>0.030263</td>\n",
       "      <td>10.0</td>\n",
       "      <td>5908.0</td>\n",
       "      <td>8.978947</td>\n",
       "      <td>5271.6</td>\n",
       "    </tr>\n",
       "  </tbody>\n",
       "</table>\n",
       "<p>5 rows × 35 columns</p>\n",
       "</div>"
      ],
      "text/plain": [
       "   week  shopper  product  price  discount  product_bought  category_label  \\\n",
       "0     0        0        5  504.7      30.0               0              12   \n",
       "1     0        0       16  743.0       0.0               0              13   \n",
       "2     0        0       27  407.4      30.0               0               4   \n",
       "3     0        0       35  391.3      35.0               0               9   \n",
       "4     0        0       52  607.0       0.0               0               7   \n",
       "\n",
       "   avg_no_weeks_between_two_purchases  lag_weeks_of_product_per_customer  \\\n",
       "0                           -1.000000                               -1.0   \n",
       "1                           15.500000                               -1.0   \n",
       "2                           -1.000000                               -1.0   \n",
       "3                           -1.000000                               -1.0   \n",
       "4                            9.111111                               -1.0   \n",
       "\n",
       "   purchase_temporal_distribution  ...  customer_prod_bought_dis_share  \\\n",
       "0                       -1.000000  ...                            -1.0   \n",
       "1                       45.000000  ...                             0.5   \n",
       "2                       -1.000000  ...                            -1.0   \n",
       "3                       -1.000000  ...                            -1.0   \n",
       "4                       38.555556  ...                             0.0   \n",
       "\n",
       "   customer_prod_dis_offers  customer_prod_dis_offered_share  \\\n",
       "0                         2                              0.0   \n",
       "1                        39                              0.5   \n",
       "2                         3                              0.0   \n",
       "3                         3                              0.0   \n",
       "4                        38                              0.0   \n",
       "\n",
       "   customer_product_share  customer_mean_product_price  \\\n",
       "0               -1.000000                   587.203947   \n",
       "1                0.005263                   587.203947   \n",
       "2               -1.000000                   587.203947   \n",
       "3               -1.000000                   587.203947   \n",
       "4                0.011842                   587.203947   \n",
       "\n",
       "   customer_discount_buy_share  week_basket_size  week_basket_value  \\\n",
       "0                     0.030263              10.0             5908.0   \n",
       "1                     0.030263              10.0             5908.0   \n",
       "2                     0.030263              10.0             5908.0   \n",
       "3                     0.030263              10.0             5908.0   \n",
       "4                     0.030263              10.0             5908.0   \n",
       "\n",
       "   mean_basket_size  mean_basket_value  \n",
       "0          8.978947             5271.6  \n",
       "1          8.978947             5271.6  \n",
       "2          8.978947             5271.6  \n",
       "3          8.978947             5271.6  \n",
       "4          8.978947             5271.6  \n",
       "\n",
       "[5 rows x 35 columns]"
      ]
     },
     "execution_count": 39,
     "metadata": {},
     "output_type": "execute_result"
    }
   ],
   "source": [
    "train.head()"
   ]
  },
  {
   "cell_type": "code",
   "execution_count": 40,
   "metadata": {},
   "outputs": [
    {
     "data": {
      "text/html": [
       "<div>\n",
       "<style scoped>\n",
       "    .dataframe tbody tr th:only-of-type {\n",
       "        vertical-align: middle;\n",
       "    }\n",
       "\n",
       "    .dataframe tbody tr th {\n",
       "        vertical-align: top;\n",
       "    }\n",
       "\n",
       "    .dataframe thead th {\n",
       "        text-align: right;\n",
       "    }\n",
       "</style>\n",
       "<table border=\"1\" class=\"dataframe\">\n",
       "  <thead>\n",
       "    <tr style=\"text-align: right;\">\n",
       "      <th></th>\n",
       "      <th>week</th>\n",
       "      <th>shopper</th>\n",
       "      <th>product</th>\n",
       "      <th>price</th>\n",
       "      <th>discount</th>\n",
       "      <th>product_bought</th>\n",
       "      <th>category_label</th>\n",
       "      <th>avg_no_weeks_between_two_purchases</th>\n",
       "      <th>lag_weeks_of_product_per_customer</th>\n",
       "      <th>purchase_temporal_distribution</th>\n",
       "      <th>...</th>\n",
       "      <th>customer_prod_bought_dis_share</th>\n",
       "      <th>customer_prod_dis_offers</th>\n",
       "      <th>customer_prod_dis_offered_share</th>\n",
       "      <th>customer_product_share</th>\n",
       "      <th>customer_mean_product_price</th>\n",
       "      <th>customer_discount_buy_share</th>\n",
       "      <th>week_basket_size</th>\n",
       "      <th>week_basket_value</th>\n",
       "      <th>mean_basket_size</th>\n",
       "      <th>mean_basket_value</th>\n",
       "    </tr>\n",
       "  </thead>\n",
       "  <tbody>\n",
       "    <tr>\n",
       "      <th>0</th>\n",
       "      <td>1</td>\n",
       "      <td>0</td>\n",
       "      <td>5</td>\n",
       "      <td>468.65</td>\n",
       "      <td>35.0</td>\n",
       "      <td>0</td>\n",
       "      <td>12</td>\n",
       "      <td>-1.000000</td>\n",
       "      <td>-1.0</td>\n",
       "      <td>-1.000000</td>\n",
       "      <td>...</td>\n",
       "      <td>-1.000000</td>\n",
       "      <td>1</td>\n",
       "      <td>0.0</td>\n",
       "      <td>-1.000000</td>\n",
       "      <td>586.607895</td>\n",
       "      <td>0.032895</td>\n",
       "      <td>7.0</td>\n",
       "      <td>4109.0</td>\n",
       "      <td>8.978947</td>\n",
       "      <td>5265.639474</td>\n",
       "    </tr>\n",
       "    <tr>\n",
       "      <th>1</th>\n",
       "      <td>1</td>\n",
       "      <td>0</td>\n",
       "      <td>34</td>\n",
       "      <td>635.40</td>\n",
       "      <td>10.0</td>\n",
       "      <td>0</td>\n",
       "      <td>9</td>\n",
       "      <td>-1.000000</td>\n",
       "      <td>-1.0</td>\n",
       "      <td>-1.000000</td>\n",
       "      <td>...</td>\n",
       "      <td>-1.000000</td>\n",
       "      <td>5</td>\n",
       "      <td>0.0</td>\n",
       "      <td>-1.000000</td>\n",
       "      <td>586.607895</td>\n",
       "      <td>0.032895</td>\n",
       "      <td>7.0</td>\n",
       "      <td>4109.0</td>\n",
       "      <td>8.978947</td>\n",
       "      <td>5265.639474</td>\n",
       "    </tr>\n",
       "    <tr>\n",
       "      <th>2</th>\n",
       "      <td>1</td>\n",
       "      <td>0</td>\n",
       "      <td>56</td>\n",
       "      <td>570.75</td>\n",
       "      <td>25.0</td>\n",
       "      <td>0</td>\n",
       "      <td>14</td>\n",
       "      <td>23.666667</td>\n",
       "      <td>-1.0</td>\n",
       "      <td>39.000000</td>\n",
       "      <td>...</td>\n",
       "      <td>0.000000</td>\n",
       "      <td>41</td>\n",
       "      <td>0.0</td>\n",
       "      <td>0.003947</td>\n",
       "      <td>586.607895</td>\n",
       "      <td>0.032895</td>\n",
       "      <td>7.0</td>\n",
       "      <td>4109.0</td>\n",
       "      <td>8.978947</td>\n",
       "      <td>5265.639474</td>\n",
       "    </tr>\n",
       "    <tr>\n",
       "      <th>3</th>\n",
       "      <td>1</td>\n",
       "      <td>0</td>\n",
       "      <td>71</td>\n",
       "      <td>629.00</td>\n",
       "      <td>0.0</td>\n",
       "      <td>1</td>\n",
       "      <td>23</td>\n",
       "      <td>1.303030</td>\n",
       "      <td>1.0</td>\n",
       "      <td>43.030303</td>\n",
       "      <td>...</td>\n",
       "      <td>0.030303</td>\n",
       "      <td>72</td>\n",
       "      <td>1.0</td>\n",
       "      <td>0.086842</td>\n",
       "      <td>586.607895</td>\n",
       "      <td>0.032895</td>\n",
       "      <td>7.0</td>\n",
       "      <td>4109.0</td>\n",
       "      <td>8.978947</td>\n",
       "      <td>5265.639474</td>\n",
       "    </tr>\n",
       "    <tr>\n",
       "      <th>4</th>\n",
       "      <td>1</td>\n",
       "      <td>0</td>\n",
       "      <td>81</td>\n",
       "      <td>513.00</td>\n",
       "      <td>0.0</td>\n",
       "      <td>0</td>\n",
       "      <td>21</td>\n",
       "      <td>6.666667</td>\n",
       "      <td>-1.0</td>\n",
       "      <td>44.666667</td>\n",
       "      <td>...</td>\n",
       "      <td>0.000000</td>\n",
       "      <td>29</td>\n",
       "      <td>0.0</td>\n",
       "      <td>0.003947</td>\n",
       "      <td>586.607895</td>\n",
       "      <td>0.032895</td>\n",
       "      <td>7.0</td>\n",
       "      <td>4109.0</td>\n",
       "      <td>8.978947</td>\n",
       "      <td>5265.639474</td>\n",
       "    </tr>\n",
       "  </tbody>\n",
       "</table>\n",
       "<p>5 rows × 35 columns</p>\n",
       "</div>"
      ],
      "text/plain": [
       "   week  shopper  product   price  discount  product_bought  category_label  \\\n",
       "0     1        0        5  468.65      35.0               0              12   \n",
       "1     1        0       34  635.40      10.0               0               9   \n",
       "2     1        0       56  570.75      25.0               0              14   \n",
       "3     1        0       71  629.00       0.0               1              23   \n",
       "4     1        0       81  513.00       0.0               0              21   \n",
       "\n",
       "   avg_no_weeks_between_two_purchases  lag_weeks_of_product_per_customer  \\\n",
       "0                           -1.000000                               -1.0   \n",
       "1                           -1.000000                               -1.0   \n",
       "2                           23.666667                               -1.0   \n",
       "3                            1.303030                                1.0   \n",
       "4                            6.666667                               -1.0   \n",
       "\n",
       "   purchase_temporal_distribution  ...  customer_prod_bought_dis_share  \\\n",
       "0                       -1.000000  ...                       -1.000000   \n",
       "1                       -1.000000  ...                       -1.000000   \n",
       "2                       39.000000  ...                        0.000000   \n",
       "3                       43.030303  ...                        0.030303   \n",
       "4                       44.666667  ...                        0.000000   \n",
       "\n",
       "   customer_prod_dis_offers  customer_prod_dis_offered_share  \\\n",
       "0                         1                              0.0   \n",
       "1                         5                              0.0   \n",
       "2                        41                              0.0   \n",
       "3                        72                              1.0   \n",
       "4                        29                              0.0   \n",
       "\n",
       "   customer_product_share  customer_mean_product_price  \\\n",
       "0               -1.000000                   586.607895   \n",
       "1               -1.000000                   586.607895   \n",
       "2                0.003947                   586.607895   \n",
       "3                0.086842                   586.607895   \n",
       "4                0.003947                   586.607895   \n",
       "\n",
       "   customer_discount_buy_share  week_basket_size  week_basket_value  \\\n",
       "0                     0.032895               7.0             4109.0   \n",
       "1                     0.032895               7.0             4109.0   \n",
       "2                     0.032895               7.0             4109.0   \n",
       "3                     0.032895               7.0             4109.0   \n",
       "4                     0.032895               7.0             4109.0   \n",
       "\n",
       "   mean_basket_size  mean_basket_value  \n",
       "0          8.978947        5265.639474  \n",
       "1          8.978947        5265.639474  \n",
       "2          8.978947        5265.639474  \n",
       "3          8.978947        5265.639474  \n",
       "4          8.978947        5265.639474  \n",
       "\n",
       "[5 rows x 35 columns]"
      ]
     },
     "execution_count": 40,
     "metadata": {},
     "output_type": "execute_result"
    }
   ],
   "source": [
    "test.head()"
   ]
  },
  {
   "cell_type": "markdown",
   "metadata": {},
   "source": [
    "### Train-Test-Split"
   ]
  },
  {
   "cell_type": "code",
   "execution_count": 41,
   "metadata": {},
   "outputs": [
    {
     "name": "stdout",
     "output_type": "stream",
     "text": [
      "The following features will be removed from the data sets (besides the target variable product_bought): \n",
      "shopper, \n",
      "product, \n",
      "purchase_w/o_dis, \n",
      "no_purchase_w_dis, \\discount_offered, \n",
      "discount_effect, \n",
      "week_basket_size and \n",
      "week_basket_value. \n",
      "Among others, reasons are target leakage and non-reproducibility for week 90.\n",
      "Training Observations: 3540798\n",
      "Testing Observations: 39535\n",
      "Observations: 3580333\n"
     ]
    }
   ],
   "source": [
    "#parameter are path, train_start, train_end, test_start, test_end, eval_set = False\n",
    "X_train, X_test, y_train, y_test = train_test_splitting(path_datasets, 0, 88, 89, 89, eval_set = False)"
   ]
  },
  {
   "cell_type": "markdown",
   "metadata": {},
   "source": [
    "## Modeling"
   ]
  },
  {
   "cell_type": "markdown",
   "metadata": {},
   "source": [
    "### Heuristic Model"
   ]
  },
  {
   "cell_type": "code",
   "execution_count": 34,
   "metadata": {},
   "outputs": [
    {
     "data": {
      "text/plain": [
       "<module 'module_baseline_heuristic_model' from '/Users/asmir/mlim_project/mlim/exercises/assignment/module_baseline_heuristic_model.py'>"
      ]
     },
     "execution_count": 34,
     "metadata": {},
     "output_type": "execute_result"
    }
   ],
   "source": [
    "import importlib\n",
    "importlib.reload(module_baseline_heuristic_model)"
   ]
  },
  {
   "cell_type": "markdown",
   "metadata": {},
   "source": [
    "**Assumptions**:\n",
    "1.  A customer will continue buying products with a coupon, if she has done so previously. \n",
    "\n",
    "**Logic/Algorithm**:\n",
    "\n",
    "1. Calculate the rate an item is bought with a coupon for each customer\n",
    "2. Order the items descending by coupon redemption rate\n",
    "3. Return the top 5 products\n",
    "4. Assign a coupon to these products for the week t+1, here week 90"
   ]
  },
  {
   "cell_type": "code",
   "execution_count": 31,
   "metadata": {},
   "outputs": [],
   "source": [
    "baseline_data = module_baseline_heuristic_model.generate_heuristic_data(path_datasets)"
   ]
  },
  {
   "cell_type": "code",
   "execution_count": 35,
   "metadata": {},
   "outputs": [],
   "source": [
    "heur_idx = module_baseline_heuristic_model.heuristic_model(path_datasets, baseline_data)"
   ]
  },
  {
   "cell_type": "code",
   "execution_count": 36,
   "metadata": {},
   "outputs": [
    {
     "data": {
      "text/html": [
       "<div>\n",
       "<style scoped>\n",
       "    .dataframe tbody tr th:only-of-type {\n",
       "        vertical-align: middle;\n",
       "    }\n",
       "\n",
       "    .dataframe tbody tr th {\n",
       "        vertical-align: top;\n",
       "    }\n",
       "\n",
       "    .dataframe thead th {\n",
       "        text-align: right;\n",
       "    }\n",
       "</style>\n",
       "<table border=\"1\" class=\"dataframe\">\n",
       "  <thead>\n",
       "    <tr style=\"text-align: right;\">\n",
       "      <th></th>\n",
       "      <th>shopper</th>\n",
       "      <th>week</th>\n",
       "      <th>coupon</th>\n",
       "      <th>product</th>\n",
       "      <th>discount</th>\n",
       "    </tr>\n",
       "  </thead>\n",
       "  <tbody>\n",
       "    <tr>\n",
       "      <th>0</th>\n",
       "      <td>0</td>\n",
       "      <td>90</td>\n",
       "      <td>0</td>\n",
       "      <td>185</td>\n",
       "      <td>30</td>\n",
       "    </tr>\n",
       "    <tr>\n",
       "      <th>1</th>\n",
       "      <td>0</td>\n",
       "      <td>90</td>\n",
       "      <td>1</td>\n",
       "      <td>16</td>\n",
       "      <td>25</td>\n",
       "    </tr>\n",
       "    <tr>\n",
       "      <th>2</th>\n",
       "      <td>0</td>\n",
       "      <td>90</td>\n",
       "      <td>2</td>\n",
       "      <td>207</td>\n",
       "      <td>20</td>\n",
       "    </tr>\n",
       "    <tr>\n",
       "      <th>3</th>\n",
       "      <td>0</td>\n",
       "      <td>90</td>\n",
       "      <td>3</td>\n",
       "      <td>179</td>\n",
       "      <td>15</td>\n",
       "    </tr>\n",
       "    <tr>\n",
       "      <th>4</th>\n",
       "      <td>0</td>\n",
       "      <td>90</td>\n",
       "      <td>4</td>\n",
       "      <td>214</td>\n",
       "      <td>15</td>\n",
       "    </tr>\n",
       "    <tr>\n",
       "      <th>5</th>\n",
       "      <td>1</td>\n",
       "      <td>90</td>\n",
       "      <td>0</td>\n",
       "      <td>75</td>\n",
       "      <td>30</td>\n",
       "    </tr>\n",
       "    <tr>\n",
       "      <th>6</th>\n",
       "      <td>1</td>\n",
       "      <td>90</td>\n",
       "      <td>1</td>\n",
       "      <td>157</td>\n",
       "      <td>25</td>\n",
       "    </tr>\n",
       "    <tr>\n",
       "      <th>7</th>\n",
       "      <td>1</td>\n",
       "      <td>90</td>\n",
       "      <td>2</td>\n",
       "      <td>165</td>\n",
       "      <td>20</td>\n",
       "    </tr>\n",
       "    <tr>\n",
       "      <th>8</th>\n",
       "      <td>1</td>\n",
       "      <td>90</td>\n",
       "      <td>3</td>\n",
       "      <td>220</td>\n",
       "      <td>15</td>\n",
       "    </tr>\n",
       "    <tr>\n",
       "      <th>9</th>\n",
       "      <td>1</td>\n",
       "      <td>90</td>\n",
       "      <td>4</td>\n",
       "      <td>53</td>\n",
       "      <td>15</td>\n",
       "    </tr>\n",
       "  </tbody>\n",
       "</table>\n",
       "</div>"
      ],
      "text/plain": [
       "   shopper  week  coupon  product  discount\n",
       "0        0    90       0      185        30\n",
       "1        0    90       1       16        25\n",
       "2        0    90       2      207        20\n",
       "3        0    90       3      179        15\n",
       "4        0    90       4      214        15\n",
       "5        1    90       0       75        30\n",
       "6        1    90       1      157        25\n",
       "7        1    90       2      165        20\n",
       "8        1    90       3      220        15\n",
       "9        1    90       4       53        15"
      ]
     },
     "execution_count": 36,
     "metadata": {},
     "output_type": "execute_result"
    }
   ],
   "source": [
    "heur_idx.head(n=10)"
   ]
  },
  {
   "cell_type": "markdown",
   "metadata": {},
   "source": [
    "### XGBoost"
   ]
  },
  {
   "cell_type": "code",
   "execution_count": 29,
   "metadata": {
    "scrolled": true
   },
   "outputs": [
    {
     "name": "stdout",
     "output_type": "stream",
     "text": [
      "[0]\teval-auc:0.87180\ttrain-auc:0.87716\n",
      "[1]\teval-auc:0.87380\ttrain-auc:0.87867\n",
      "[2]\teval-auc:0.87658\ttrain-auc:0.88059\n",
      "[3]\teval-auc:0.87848\ttrain-auc:0.88105\n",
      "[4]\teval-auc:0.87713\ttrain-auc:0.88406\n",
      "[5]\teval-auc:0.87542\ttrain-auc:0.88546\n",
      "[6]\teval-auc:0.87281\ttrain-auc:0.88765\n",
      "[7]\teval-auc:0.87147\ttrain-auc:0.88849\n",
      "[8]\teval-auc:0.86856\ttrain-auc:0.88967\n",
      "[9]\teval-auc:0.86607\ttrain-auc:0.89156\n",
      "[10]\teval-auc:0.86506\ttrain-auc:0.89223\n",
      "[11]\teval-auc:0.86289\ttrain-auc:0.89261\n",
      "[12]\teval-auc:0.86272\ttrain-auc:0.89307\n",
      "[13]\teval-auc:0.86246\ttrain-auc:0.89348\n",
      "[14]\teval-auc:0.86219\ttrain-auc:0.89374\n",
      "[15]\teval-auc:0.86144\ttrain-auc:0.89454\n",
      "[16]\teval-auc:0.86174\ttrain-auc:0.89495\n",
      "[17]\teval-auc:0.86236\ttrain-auc:0.89516\n",
      "[18]\teval-auc:0.86191\ttrain-auc:0.89550\n",
      "[19]\teval-auc:0.86082\ttrain-auc:0.89586\n",
      "[20]\teval-auc:0.86009\ttrain-auc:0.89612\n",
      "[21]\teval-auc:0.85902\ttrain-auc:0.89642\n",
      "[22]\teval-auc:0.85965\ttrain-auc:0.89740\n",
      "[23]\teval-auc:0.85883\ttrain-auc:0.89794\n",
      "[24]\teval-auc:0.85996\ttrain-auc:0.89838\n",
      "[25]\teval-auc:0.86035\ttrain-auc:0.89872\n",
      "[26]\teval-auc:0.86075\ttrain-auc:0.89907\n",
      "[27]\teval-auc:0.85974\ttrain-auc:0.89933\n",
      "[28]\teval-auc:0.85908\ttrain-auc:0.89962\n",
      "[29]\teval-auc:0.85949\ttrain-auc:0.89964\n",
      "[30]\teval-auc:0.85980\ttrain-auc:0.89988\n",
      "[31]\teval-auc:0.85941\ttrain-auc:0.90009\n",
      "[32]\teval-auc:0.85916\ttrain-auc:0.90022\n",
      "[33]\teval-auc:0.85919\ttrain-auc:0.90050\n",
      "[34]\teval-auc:0.85846\ttrain-auc:0.90063\n",
      "[35]\teval-auc:0.85840\ttrain-auc:0.90084\n",
      "[36]\teval-auc:0.85860\ttrain-auc:0.90107\n",
      "[37]\teval-auc:0.85816\ttrain-auc:0.90118\n",
      "[38]\teval-auc:0.85868\ttrain-auc:0.90131\n",
      "[39]\teval-auc:0.85965\ttrain-auc:0.90165\n",
      "[40]\teval-auc:0.85979\ttrain-auc:0.90185\n",
      "[41]\teval-auc:0.85985\ttrain-auc:0.90202\n",
      "[42]\teval-auc:0.85978\ttrain-auc:0.90223\n",
      "[43]\teval-auc:0.86141\ttrain-auc:0.90260\n",
      "[44]\teval-auc:0.86146\ttrain-auc:0.90267\n",
      "[45]\teval-auc:0.86152\ttrain-auc:0.90279\n",
      "[46]\teval-auc:0.86157\ttrain-auc:0.90284\n",
      "[47]\teval-auc:0.86345\ttrain-auc:0.90303\n",
      "[48]\teval-auc:0.86327\ttrain-auc:0.90317\n",
      "[49]\teval-auc:0.86342\ttrain-auc:0.90329\n",
      "[50]\teval-auc:0.86449\ttrain-auc:0.90342\n",
      "[51]\teval-auc:0.86486\ttrain-auc:0.90355\n",
      "[52]\teval-auc:0.86551\ttrain-auc:0.90376\n",
      "[53]\teval-auc:0.86620\ttrain-auc:0.90392\n",
      "[54]\teval-auc:0.86626\ttrain-auc:0.90410\n",
      "[55]\teval-auc:0.86638\ttrain-auc:0.90423\n",
      "[56]\teval-auc:0.86725\ttrain-auc:0.90440\n",
      "[57]\teval-auc:0.86710\ttrain-auc:0.90456\n",
      "[58]\teval-auc:0.86713\ttrain-auc:0.90474\n",
      "[59]\teval-auc:0.86742\ttrain-auc:0.90489\n",
      "[60]\teval-auc:0.86748\ttrain-auc:0.90506\n",
      "[61]\teval-auc:0.86808\ttrain-auc:0.90515\n",
      "[62]\teval-auc:0.86816\ttrain-auc:0.90521\n",
      "[63]\teval-auc:0.86821\ttrain-auc:0.90527\n",
      "[64]\teval-auc:0.86919\ttrain-auc:0.90550\n",
      "[65]\teval-auc:0.86913\ttrain-auc:0.90566\n",
      "[66]\teval-auc:0.86918\ttrain-auc:0.90582\n",
      "[67]\teval-auc:0.87017\ttrain-auc:0.90614\n",
      "[68]\teval-auc:0.87024\ttrain-auc:0.90628\n",
      "[69]\teval-auc:0.87017\ttrain-auc:0.90638\n",
      "[70]\teval-auc:0.87023\ttrain-auc:0.90643\n",
      "[71]\teval-auc:0.86993\ttrain-auc:0.90654\n",
      "[72]\teval-auc:0.86995\ttrain-auc:0.90657\n",
      "[73]\teval-auc:0.87007\ttrain-auc:0.90662\n",
      "[74]\teval-auc:0.87025\ttrain-auc:0.90671\n",
      "[75]\teval-auc:0.86977\ttrain-auc:0.90678\n",
      "[76]\teval-auc:0.86986\ttrain-auc:0.90683\n",
      "[77]\teval-auc:0.86978\ttrain-auc:0.90695\n",
      "[78]\teval-auc:0.86981\ttrain-auc:0.90696\n",
      "[79]\teval-auc:0.86986\ttrain-auc:0.90699\n",
      "[80]\teval-auc:0.87017\ttrain-auc:0.90715\n",
      "[81]\teval-auc:0.87033\ttrain-auc:0.90725\n",
      "[82]\teval-auc:0.87039\ttrain-auc:0.90730\n",
      "[83]\teval-auc:0.87046\ttrain-auc:0.90741\n",
      "[84]\teval-auc:0.87035\ttrain-auc:0.90763\n",
      "[85]\teval-auc:0.87050\ttrain-auc:0.90789\n",
      "[86]\teval-auc:0.87057\ttrain-auc:0.90802\n",
      "[87]\teval-auc:0.87130\ttrain-auc:0.90811\n",
      "[88]\teval-auc:0.87140\ttrain-auc:0.90822\n",
      "[89]\teval-auc:0.87043\ttrain-auc:0.90836\n",
      "[90]\teval-auc:0.87054\ttrain-auc:0.90847\n",
      "[91]\teval-auc:0.87063\ttrain-auc:0.90857\n",
      "[92]\teval-auc:0.87089\ttrain-auc:0.90874\n",
      "[93]\teval-auc:0.87057\ttrain-auc:0.90895\n",
      "[94]\teval-auc:0.87063\ttrain-auc:0.90902\n",
      "[95]\teval-auc:0.87067\ttrain-auc:0.90913\n",
      "[96]\teval-auc:0.87078\ttrain-auc:0.90920\n",
      "[97]\teval-auc:0.87079\ttrain-auc:0.90929\n",
      "[98]\teval-auc:0.87075\ttrain-auc:0.90937\n",
      "[99]\teval-auc:0.87118\ttrain-auc:0.90942\n"
     ]
    }
   ],
   "source": [
    "xgb_mtx_train = xgb.DMatrix(X_train, label=y_train)\n",
    "xgb_mtx_test = xgb.DMatrix(X_test, label=y_test)\n",
    "params = {'max_depth': 10 , 'eta': 0.01, 'objective': 'binary:logistic', 'eval_metric': 'auc'}\n",
    "evallist = [(xgb_mtx_test, 'eval'), (xgb_mtx_train, 'train')]\n",
    "num_round = 100\n",
    "bst = xgb.train(params, xgb_mtx_train, num_round, evallist)"
   ]
  },
  {
   "cell_type": "code",
   "execution_count": 37,
   "metadata": {},
   "outputs": [
    {
     "name": "stdout",
     "output_type": "stream",
     "text": [
      "Confusion Matrix: \n",
      " [[21127  3215]\n",
      " [ 4546 10647]]\n"
     ]
    }
   ],
   "source": [
    "ypred = bst.predict(xgb_mtx_test)\n",
    "ytrue = y_test\n",
    "\n",
    "print(\"Confusion Matrix: \\n\", confusion_matrix(list(ytrue),list(ypred>0.5)))"
   ]
  },
  {
   "cell_type": "code",
   "execution_count": 35,
   "metadata": {},
   "outputs": [
    {
     "name": "stdout",
     "output_type": "stream",
     "text": [
      "AUC:  0.871180772610282\n"
     ]
    }
   ],
   "source": [
    "#AUC\n",
    "print(\"AUC: \", metrics.auc(fpr, tpr))"
   ]
  },
  {
   "cell_type": "code",
   "execution_count": 34,
   "metadata": {},
   "outputs": [
    {
     "name": "stdout",
     "output_type": "stream",
     "text": [
      "Cross Entropy:  0.6767952511705434\n"
     ]
    }
   ],
   "source": [
    "#Logloss\n",
    "print(\"Cross Entropy: \", log_loss(list(ytrue), list(ypred)))"
   ]
  },
  {
   "cell_type": "markdown",
   "metadata": {},
   "source": [
    "### LightGBM"
   ]
  },
  {
   "cell_type": "code",
   "execution_count": 24,
   "metadata": {},
   "outputs": [
    {
     "name": "stdout",
     "output_type": "stream",
     "text": [
      "Training until validation scores don't improve for 50 rounds\n",
      "[200]\ttraining's binary_logloss: 0.411992\ttraining's auc: 0.891586\tvalid_1's binary_logloss: 0.391143\tvalid_1's auc: 0.908403\n",
      "Did not meet early stopping. Best iteration is:\n",
      "[300]\ttraining's binary_logloss: 0.392153\ttraining's auc: 0.895027\tvalid_1's binary_logloss: 0.358007\tvalid_1's auc: 0.91929\n",
      "defaultdict(<class 'collections.OrderedDict'>, {'training': OrderedDict([('binary_logloss', 0.3921530708235825), ('auc', 0.8950266281960872)]), 'valid_1': OrderedDict([('binary_logloss', 0.35800743808282914), ('auc', 0.9192897473995523)])})\n",
      "\n",
      "The computation took 9.42 minutes.\n"
     ]
    },
    {
     "data": {
      "image/png": "[encoded data removed]",
      "text/plain": [
       "<Figure size 432x288 with 1 Axes>"
      ]
     },
     "metadata": {
      "needs_background": "light"
     },
     "output_type": "display_data"
    },
    {
     "data": {
      "image/png": "[encoded data removed]",
      "text/plain": [
       "<Figure size 432x288 with 1 Axes>"
      ]
     },
     "metadata": {
      "needs_background": "light"
     },
     "output_type": "display_data"
    },
    {
     "name": "stdout",
     "output_type": "stream",
     "text": [
      "Confusion Matrix: \n",
      " [[21101  3366]\n",
      " [ 3048 12279]]\n",
      "The AUC score is:  0.9192897473995523\n",
      "The Binary_Log_Loss is:  0.3580074380828356\n"
     ]
    }
   ],
   "source": [
    "#parameters are X_train, X_test, y_train, y_test, X_eval = None, y_eval = None, eval_set = False, output_probabilities = True, n_estimators = 300, early_stopping_rounds = 50, num_leaves = 1000, \n",
    "#reg_alpha = 0, reg_lambda = 0.5, subsample = 0.5, learning_rate = 0.01, verbose = 200). All parameter that is not specified here are the default parameters of the lightgbm model.\n",
    "\n",
    "lightgbm_model = predict_lightgbm(X_train, X_test, y_train, y_test, \n",
    "                         output_probabilities = True,\n",
    "                         n_estimators = 300, \n",
    "                         early_stopping_rounds = 50, \n",
    "                         num_leaves = 1000,\n",
    "                         reg_alpha = 0,\n",
    "                         reg_lambda = 0.5,\n",
    "                         subsample = 0.5, \n",
    "                         learning_rate = 0.01,\n",
    "                         verbose = 200)"
   ]
  },
  {
   "cell_type": "markdown",
   "metadata": {},
   "source": [
    "#### Model Performance"
   ]
  },
  {
   "cell_type": "code",
   "execution_count": 112,
   "metadata": {},
   "outputs": [
    {
     "name": "stdout",
     "output_type": "stream",
     "text": [
      "Classification Accuracy:  0.7933982547110155\n",
      "Classification Error: \t 0.20660174528898445\n",
      "Recall:  \t\t 0.6850523267294149\n",
      "Precision: \t\t 0.7546950910013777\n",
      "F1 score: \t\t 0.7181893458459839\n",
      "AUC: \t\t\t 0.8846233294727821\n",
      "Cross Entropy: \t\t 0.41213648762970256\n"
     ]
    },
    {
     "data": {
      "image/png": "[encoded data removed]",
      "text/plain": [
       "<Figure size 432x288 with 2 Axes>"
      ]
     },
     "metadata": {
      "needs_background": "light"
     },
     "output_type": "display_data"
    }
   ],
   "source": [
    "#Predictions and Classification Report\n",
    "lgbm_pred = lightgbm_model.predict(X_test)\n",
    "# Probabilities are returned for each class, unfortunately without the class names\n",
    "lgbm_pred_prob = lightgbm_model.predict_proba(X_test)\n",
    "lgbm_pred_prob = lgbm_pred_prob[:,1]\n",
    "\n",
    "print('Classification Accuracy: ',   metrics.accuracy_score(y_test, lgbm_pred))\n",
    "print('Classification Error: \\t',    1 - metrics.accuracy_score(y_test, lgbm_pred))\n",
    "print(\"Recall:  \\t\\t\",               metrics.recall_score(y_test, lgbm_pred))\n",
    "print(\"Precision: \\t\\t\",             metrics.precision_score(y_test, lgbm_pred))\n",
    "print(\"F1 score: \\t\\t\",              metrics.f1_score(y_test, lgbm_pred))\n",
    "print('AUC: \\t\\t\\t',                 metrics.roc_auc_score(y_test, lgbm_pred_prob))\n",
    "print('Cross Entropy: \\t\\t',       metrics.log_loss(y_test, lgbm_pred_prob))\n",
    "\n",
    "cm = confusion_matrix(y_test,lgbm_pred)\n",
    "ax = sns.heatmap(cm,cmap='viridis_r', annot=True, fmt='d', square=True)\n",
    "ax.set_xlabel('Predicted')\n",
    "ax.set_ylabel('True');"
   ]
  },
  {
   "cell_type": "markdown",
   "metadata": {},
   "source": [
    "### LightGBM vs Baseline Heuristic Model "
   ]
  },
  {
   "cell_type": "markdown",
   "metadata": {},
   "source": [
    "#### LightGBM Model"
   ]
  },
  {
   "cell_type": "code",
   "execution_count": null,
   "metadata": {},
   "outputs": [],
   "source": [
    "#load LightGBM model \n",
    "filename = 'lightgbm_model_test89.pkl'\n",
    "with open(filename, 'rb') as file:\n",
    "    lgbm_m = pickle.load(file)"
   ]
  },
  {
   "cell_type": "markdown",
   "metadata": {},
   "source": [
    "#### Week 89 data "
   ]
  },
  {
   "cell_type": "code",
   "execution_count": 52,
   "metadata": {},
   "outputs": [],
   "source": [
    "test_89 = test[test['week'] == 89]"
   ]
  },
  {
   "cell_type": "code",
   "execution_count": 56,
   "metadata": {},
   "outputs": [],
   "source": [
    "X_test_89 = test_89.drop(['product_bought', 'shopper', 'product', 'purchase_w/o_dis', 'no_purchase_w_dis', 'discount_effect', 'week_basket_size', 'week_basket_value', 'discount_offered'], axis = 1)"
   ]
  },
  {
   "cell_type": "markdown",
   "metadata": {},
   "source": [
    "#### Light GBM - Coupon Recommendations for Week 89 "
   ]
  },
  {
   "cell_type": "code",
   "execution_count": null,
   "metadata": {},
   "outputs": [],
   "source": [
    "import importlib\n",
    "importlib.reload(module_coupon_assignment)"
   ]
  },
  {
   "cell_type": "code",
   "execution_count": 57,
   "metadata": {},
   "outputs": [],
   "source": [
    "# creating test data including prediction for various discounts d e {15,20,25,30}\n",
    "X_test_d15, X_test_d20, X_test_d25, X_test_d30 = module_coupon_assignment.get_test_discounts(X_test_89)"
   ]
  },
  {
   "cell_type": "code",
   "execution_count": 58,
   "metadata": {},
   "outputs": [],
   "source": [
    "# creating predictions for each discount {15,20,25,30}\n",
    "pred_d15, pred_d20, pred_d25, pred_d30 = module_coupon_assignment.predictions(lgbm_m, X_test_d15, X_test_d20, X_test_d25, X_test_d30)"
   ]
  },
  {
   "cell_type": "code",
   "execution_count": 59,
   "metadata": {},
   "outputs": [],
   "source": [
    "# merge predictions back to original test data sets for discounts \n",
    "X_test_d15, X_test_d20, X_test_d25, X_test_d30 = module_coupon_assignment.merge_predictions(test_89, X_test_d15, X_test_d20, X_test_d25, X_test_d30, pred_d15, pred_d20, pred_d25, pred_d30)"
   ]
  },
  {
   "cell_type": "code",
   "execution_count": 70,
   "metadata": {},
   "outputs": [],
   "source": [
    "# assign top 5 coupons via revenue maximization \n",
    "lgbm_coupons = module_coupon_assignment.coupon_assignment(X_test_d15, X_test_d20, X_test_d25, X_test_d30)"
   ]
  },
  {
   "cell_type": "code",
   "execution_count": 71,
   "metadata": {},
   "outputs": [
    {
     "data": {
      "text/html": [
       "<div>\n",
       "<style scoped>\n",
       "    .dataframe tbody tr th:only-of-type {\n",
       "        vertical-align: middle;\n",
       "    }\n",
       "\n",
       "    .dataframe tbody tr th {\n",
       "        vertical-align: top;\n",
       "    }\n",
       "\n",
       "    .dataframe thead th {\n",
       "        text-align: right;\n",
       "    }\n",
       "</style>\n",
       "<table border=\"1\" class=\"dataframe\">\n",
       "  <thead>\n",
       "    <tr style=\"text-align: right;\">\n",
       "      <th></th>\n",
       "      <th>shopper</th>\n",
       "      <th>week</th>\n",
       "      <th>coupon</th>\n",
       "      <th>product</th>\n",
       "      <th>discount</th>\n",
       "    </tr>\n",
       "  </thead>\n",
       "  <tbody>\n",
       "    <tr>\n",
       "      <th>0</th>\n",
       "      <td>0</td>\n",
       "      <td>89</td>\n",
       "      <td>0</td>\n",
       "      <td>184</td>\n",
       "      <td>15</td>\n",
       "    </tr>\n",
       "    <tr>\n",
       "      <th>1</th>\n",
       "      <td>0</td>\n",
       "      <td>89</td>\n",
       "      <td>1</td>\n",
       "      <td>71</td>\n",
       "      <td>15</td>\n",
       "    </tr>\n",
       "    <tr>\n",
       "      <th>2</th>\n",
       "      <td>0</td>\n",
       "      <td>89</td>\n",
       "      <td>2</td>\n",
       "      <td>130</td>\n",
       "      <td>15</td>\n",
       "    </tr>\n",
       "    <tr>\n",
       "      <th>3</th>\n",
       "      <td>0</td>\n",
       "      <td>89</td>\n",
       "      <td>3</td>\n",
       "      <td>91</td>\n",
       "      <td>15</td>\n",
       "    </tr>\n",
       "    <tr>\n",
       "      <th>4</th>\n",
       "      <td>0</td>\n",
       "      <td>89</td>\n",
       "      <td>4</td>\n",
       "      <td>87</td>\n",
       "      <td>15</td>\n",
       "    </tr>\n",
       "    <tr>\n",
       "      <th>5</th>\n",
       "      <td>1</td>\n",
       "      <td>89</td>\n",
       "      <td>0</td>\n",
       "      <td>63</td>\n",
       "      <td>15</td>\n",
       "    </tr>\n",
       "    <tr>\n",
       "      <th>6</th>\n",
       "      <td>1</td>\n",
       "      <td>89</td>\n",
       "      <td>1</td>\n",
       "      <td>78</td>\n",
       "      <td>15</td>\n",
       "    </tr>\n",
       "    <tr>\n",
       "      <th>7</th>\n",
       "      <td>1</td>\n",
       "      <td>89</td>\n",
       "      <td>2</td>\n",
       "      <td>165</td>\n",
       "      <td>15</td>\n",
       "    </tr>\n",
       "    <tr>\n",
       "      <th>8</th>\n",
       "      <td>1</td>\n",
       "      <td>89</td>\n",
       "      <td>3</td>\n",
       "      <td>200</td>\n",
       "      <td>15</td>\n",
       "    </tr>\n",
       "    <tr>\n",
       "      <th>9</th>\n",
       "      <td>1</td>\n",
       "      <td>89</td>\n",
       "      <td>4</td>\n",
       "      <td>220</td>\n",
       "      <td>25</td>\n",
       "    </tr>\n",
       "  </tbody>\n",
       "</table>\n",
       "</div>"
      ],
      "text/plain": [
       "   shopper  week  coupon  product  discount\n",
       "0        0    89       0      184        15\n",
       "1        0    89       1       71        15\n",
       "2        0    89       2      130        15\n",
       "3        0    89       3       91        15\n",
       "4        0    89       4       87        15\n",
       "5        1    89       0       63        15\n",
       "6        1    89       1       78        15\n",
       "7        1    89       2      165        15\n",
       "8        1    89       3      200        15\n",
       "9        1    89       4      220        25"
      ]
     },
     "execution_count": 71,
     "metadata": {},
     "output_type": "execute_result"
    }
   ],
   "source": [
    "lgbm_coupons.head(n=10)"
   ]
  },
  {
   "cell_type": "markdown",
   "metadata": {},
   "source": [
    "#### Baseline Heuristic Model - Coupons Recommendations for Week 89"
   ]
  },
  {
   "cell_type": "markdown",
   "metadata": {},
   "source": [
    "The baseline heuristic model applies the same logic irregardless of which week is being predicted, thus we can set week to an arbitrary value, here 89. "
   ]
  },
  {
   "cell_type": "code",
   "execution_count": 61,
   "metadata": {},
   "outputs": [
    {
     "data": {
      "text/html": [
       "<div>\n",
       "<style scoped>\n",
       "    .dataframe tbody tr th:only-of-type {\n",
       "        vertical-align: middle;\n",
       "    }\n",
       "\n",
       "    .dataframe tbody tr th {\n",
       "        vertical-align: top;\n",
       "    }\n",
       "\n",
       "    .dataframe thead th {\n",
       "        text-align: right;\n",
       "    }\n",
       "</style>\n",
       "<table border=\"1\" class=\"dataframe\">\n",
       "  <thead>\n",
       "    <tr style=\"text-align: right;\">\n",
       "      <th></th>\n",
       "      <th>shopper</th>\n",
       "      <th>week</th>\n",
       "      <th>coupon</th>\n",
       "      <th>product</th>\n",
       "      <th>discount</th>\n",
       "    </tr>\n",
       "  </thead>\n",
       "  <tbody>\n",
       "    <tr>\n",
       "      <th>0</th>\n",
       "      <td>0</td>\n",
       "      <td>89</td>\n",
       "      <td>0</td>\n",
       "      <td>185</td>\n",
       "      <td>30</td>\n",
       "    </tr>\n",
       "    <tr>\n",
       "      <th>1</th>\n",
       "      <td>0</td>\n",
       "      <td>89</td>\n",
       "      <td>1</td>\n",
       "      <td>16</td>\n",
       "      <td>25</td>\n",
       "    </tr>\n",
       "    <tr>\n",
       "      <th>2</th>\n",
       "      <td>0</td>\n",
       "      <td>89</td>\n",
       "      <td>2</td>\n",
       "      <td>207</td>\n",
       "      <td>20</td>\n",
       "    </tr>\n",
       "    <tr>\n",
       "      <th>3</th>\n",
       "      <td>0</td>\n",
       "      <td>89</td>\n",
       "      <td>3</td>\n",
       "      <td>179</td>\n",
       "      <td>15</td>\n",
       "    </tr>\n",
       "    <tr>\n",
       "      <th>4</th>\n",
       "      <td>0</td>\n",
       "      <td>89</td>\n",
       "      <td>4</td>\n",
       "      <td>214</td>\n",
       "      <td>15</td>\n",
       "    </tr>\n",
       "    <tr>\n",
       "      <th>5</th>\n",
       "      <td>1</td>\n",
       "      <td>89</td>\n",
       "      <td>0</td>\n",
       "      <td>75</td>\n",
       "      <td>30</td>\n",
       "    </tr>\n",
       "    <tr>\n",
       "      <th>6</th>\n",
       "      <td>1</td>\n",
       "      <td>89</td>\n",
       "      <td>1</td>\n",
       "      <td>157</td>\n",
       "      <td>25</td>\n",
       "    </tr>\n",
       "    <tr>\n",
       "      <th>7</th>\n",
       "      <td>1</td>\n",
       "      <td>89</td>\n",
       "      <td>2</td>\n",
       "      <td>165</td>\n",
       "      <td>20</td>\n",
       "    </tr>\n",
       "    <tr>\n",
       "      <th>8</th>\n",
       "      <td>1</td>\n",
       "      <td>89</td>\n",
       "      <td>3</td>\n",
       "      <td>220</td>\n",
       "      <td>15</td>\n",
       "    </tr>\n",
       "    <tr>\n",
       "      <th>9</th>\n",
       "      <td>1</td>\n",
       "      <td>89</td>\n",
       "      <td>4</td>\n",
       "      <td>53</td>\n",
       "      <td>15</td>\n",
       "    </tr>\n",
       "  </tbody>\n",
       "</table>\n",
       "</div>"
      ],
      "text/plain": [
       "   shopper  week  coupon  product  discount\n",
       "0        0    89       0      185        30\n",
       "1        0    89       1       16        25\n",
       "2        0    89       2      207        20\n",
       "3        0    89       3      179        15\n",
       "4        0    89       4      214        15\n",
       "5        1    89       0       75        30\n",
       "6        1    89       1      157        25\n",
       "7        1    89       2      165        20\n",
       "8        1    89       3      220        15\n",
       "9        1    89       4       53        15"
      ]
     },
     "execution_count": 61,
     "metadata": {},
     "output_type": "execute_result"
    }
   ],
   "source": [
    "baseline_coupons = heur_idx.copy()\n",
    "baseline_coupons['week'] = 89\n",
    "baseline_coupons.head(n=10)"
   ]
  },
  {
   "cell_type": "markdown",
   "metadata": {},
   "source": [
    "#### Comparison: LGBM vs Baseline Heuristic Model"
   ]
  },
  {
   "cell_type": "code",
   "execution_count": 78,
   "metadata": {},
   "outputs": [],
   "source": [
    "test_89_s = test_89[['shopper', 'week', 'product', 'discount']]"
   ]
  },
  {
   "cell_type": "code",
   "execution_count": 79,
   "metadata": {},
   "outputs": [],
   "source": [
    "test_89_s = test_89_s[test_89_s['discount'] > 0]"
   ]
  },
  {
   "cell_type": "code",
   "execution_count": 83,
   "metadata": {},
   "outputs": [],
   "source": [
    "shopper_prods_lgbm = pd.merge(lgbm_coupons, test_89_s, how='inner', on=(['shopper','product']))"
   ]
  },
  {
   "cell_type": "code",
   "execution_count": 88,
   "metadata": {},
   "outputs": [],
   "source": [
    "shopper_prods_baseline = pd.merge(baseline_coupons, test_89_s, how='inner', on=(['shopper','product']))"
   ]
  },
  {
   "cell_type": "code",
   "execution_count": 87,
   "metadata": {},
   "outputs": [
    {
     "name": "stdout",
     "output_type": "stream",
     "text": [
      "LGBM: Coupon Classification Accuracy:  0.06253126563281641\n"
     ]
    }
   ],
   "source": [
    "print('LGBM: Coupon Classification Accuracy: ',   (len(shopper_prods_lgbm)/len(test_89_s)))"
   ]
  },
  {
   "cell_type": "code",
   "execution_count": 89,
   "metadata": {},
   "outputs": [
    {
     "name": "stdout",
     "output_type": "stream",
     "text": [
      "Baseline Heuristic Model: Coupon Classification Accuracy:  0.032416208104052026\n"
     ]
    }
   ],
   "source": [
    "print('Baseline Heuristic Model: Coupon Classification Accuracy: ',   (len(shopper_prods_baseline)/len(test_89_s)))"
   ]
  },
  {
   "cell_type": "markdown",
   "metadata": {},
   "source": [
    "**The LGBM coupon solution is 93% better than the baseline solution.**"
   ]
  },
  {
   "cell_type": "markdown",
   "metadata": {},
   "source": [
    "## Final Prediction"
   ]
  },
  {
   "cell_type": "code",
   "execution_count": 26,
   "metadata": {},
   "outputs": [],
   "source": [
    "filename = 'lightgbm_model_final.pkl'\n",
    "with open(filename, 'rb') as file:\n",
    "    model = pickle.load(file)"
   ]
  },
  {
   "cell_type": "code",
   "execution_count": 106,
   "metadata": {},
   "outputs": [
    {
     "data": {
      "text/plain": [
       "<module 'coupon_assignment' from '/Users/Bisa/Documents/Studium/Masterstudium/5_Semester/MLiM/FinalAssignment/coupon_assignment.py'>"
      ]
     },
     "execution_count": 106,
     "metadata": {},
     "output_type": "execute_result"
    }
   ],
   "source": [
    "import module_coupon_assignment \n",
    "#from module_coupon_assignment import coupon_assigmnet \n",
    "import module_week90_generate_dataset\n",
    "from module_week90_generate_dataset import week90_generate_dataset\n",
    "\n",
    "import importlib\n",
    "importlib.reload(module_coupon_assignment)"
   ]
  },
  {
   "cell_type": "markdown",
   "metadata": {},
   "source": [
    "### Load Trained LightGBM"
   ]
  },
  {
   "cell_type": "code",
   "execution_count": 28,
   "metadata": {},
   "outputs": [],
   "source": [
    "filename = 'lightgbm_model_final.pkl'\n",
    "lightgbm_model = module_coupon_assignment.load_model(filename)"
   ]
  },
  {
   "cell_type": "markdown",
   "metadata": {},
   "source": [
    "### Generate Data Set for Week90 to Make Final Prediction"
   ]
  },
  {
   "cell_type": "code",
   "execution_count": 60,
   "metadata": {},
   "outputs": [
    {
     "name": "stdout",
     "output_type": "stream",
     "text": [
      "The dataframes should be named: \n",
      "baskets.parquet, \n",
      "coupons.parquet, \n",
      "df_negative_samples.parquet, \n",
      "product_categories.csv, \n",
      "avg_no_weeks_between_two_purchases.parquet, \n",
      "lags.parquet and \n",
      "purchase_temporal_distribution.parquet\n",
      "\n",
      "The data set for week 90 is generated and saved as a parquet file to: /Users/Bisa/Documents/Studium/Masterstudium/5_Semester/MLiM/datasets\n"
     ]
    }
   ],
   "source": [
    "# read week 90 code\n",
    "# for example \n",
    "X_test_90_all = week90_generate_dataset(path_datasets) # by funciton call - uses week90_gerate_dataset() \n",
    "X_test_90 = X_test_90_all.drop(['product_bought', 'shopper', 'product'], axis = 1) \n",
    "\n",
    "X_test_90 = pd.read_parquet(\"X_test_90.parquet\") # by reading csv \n",
    "\n",
    "#the variables price and discount will be added to the data set by the logical layer"
   ]
  },
  {
   "cell_type": "markdown",
   "metadata": {},
   "source": [
    "### Coupon Recommendation "
   ]
  },
  {
   "cell_type": "code",
   "execution_count": 107,
   "metadata": {},
   "outputs": [],
   "source": [
    "# creating test data including prediction for various discounts d e {15,20,25,30}\n",
    "X_test_d15, X_test_d20, X_test_d25, X_test_d30 = module_coupon_assignment.get_test_discounts(X_test_90)"
   ]
  },
  {
   "cell_type": "code",
   "execution_count": 108,
   "metadata": {},
   "outputs": [],
   "source": [
    "# creating predictions for each discount {15,20,25,30}\n",
    "pred_d15, pred_d20, pred_d25, pred_d30 = module_coupon_assignment.predictions(lightgbm_model, X_test_d15, X_test_d20, X_test_d25, X_test_d30)"
   ]
  },
  {
   "cell_type": "code",
   "execution_count": 109,
   "metadata": {},
   "outputs": [],
   "source": [
    "# merge predictions back to original test data sets for discounts \n",
    "X_test_d15, X_test_d20, X_test_d25, X_test_d30 = module_coupon_assignment.merge_predictions(X_test_90_all, X_test_d15, X_test_d20, X_test_d25, X_test_d30, pred_d15, pred_d20, pred_d25, pred_d30)"
   ]
  },
  {
   "cell_type": "code",
   "execution_count": 110,
   "metadata": {},
   "outputs": [],
   "source": [
    "# assign top 5 coupons via revenue maximization \n",
    "top5coupons = module_coupon_assignment.coupon_assignment(X_test_d15, X_test_d20, X_test_d25, X_test_d30)"
   ]
  },
  {
   "cell_type": "code",
   "execution_count": 111,
   "metadata": {},
   "outputs": [
    {
     "data": {
      "text/html": [
       "<div>\n",
       "<style scoped>\n",
       "    .dataframe tbody tr th:only-of-type {\n",
       "        vertical-align: middle;\n",
       "    }\n",
       "\n",
       "    .dataframe tbody tr th {\n",
       "        vertical-align: top;\n",
       "    }\n",
       "\n",
       "    .dataframe thead th {\n",
       "        text-align: right;\n",
       "    }\n",
       "</style>\n",
       "<table border=\"1\" class=\"dataframe\">\n",
       "  <thead>\n",
       "    <tr style=\"text-align: right;\">\n",
       "      <th></th>\n",
       "      <th>shopper</th>\n",
       "      <th>week</th>\n",
       "      <th>coupon</th>\n",
       "      <th>product</th>\n",
       "      <th>discount</th>\n",
       "    </tr>\n",
       "  </thead>\n",
       "  <tbody>\n",
       "    <tr>\n",
       "      <th>0</th>\n",
       "      <td>0</td>\n",
       "      <td>90</td>\n",
       "      <td>0</td>\n",
       "      <td>56</td>\n",
       "      <td>15</td>\n",
       "    </tr>\n",
       "    <tr>\n",
       "      <th>1</th>\n",
       "      <td>0</td>\n",
       "      <td>90</td>\n",
       "      <td>1</td>\n",
       "      <td>16</td>\n",
       "      <td>15</td>\n",
       "    </tr>\n",
       "    <tr>\n",
       "      <th>2</th>\n",
       "      <td>0</td>\n",
       "      <td>90</td>\n",
       "      <td>2</td>\n",
       "      <td>116</td>\n",
       "      <td>15</td>\n",
       "    </tr>\n",
       "    <tr>\n",
       "      <th>3</th>\n",
       "      <td>0</td>\n",
       "      <td>90</td>\n",
       "      <td>3</td>\n",
       "      <td>38</td>\n",
       "      <td>15</td>\n",
       "    </tr>\n",
       "    <tr>\n",
       "      <th>4</th>\n",
       "      <td>0</td>\n",
       "      <td>90</td>\n",
       "      <td>4</td>\n",
       "      <td>244</td>\n",
       "      <td>15</td>\n",
       "    </tr>\n",
       "    <tr>\n",
       "      <th>5</th>\n",
       "      <td>1</td>\n",
       "      <td>90</td>\n",
       "      <td>0</td>\n",
       "      <td>117</td>\n",
       "      <td>15</td>\n",
       "    </tr>\n",
       "    <tr>\n",
       "      <th>6</th>\n",
       "      <td>1</td>\n",
       "      <td>90</td>\n",
       "      <td>1</td>\n",
       "      <td>63</td>\n",
       "      <td>15</td>\n",
       "    </tr>\n",
       "    <tr>\n",
       "      <th>7</th>\n",
       "      <td>1</td>\n",
       "      <td>90</td>\n",
       "      <td>2</td>\n",
       "      <td>116</td>\n",
       "      <td>15</td>\n",
       "    </tr>\n",
       "    <tr>\n",
       "      <th>8</th>\n",
       "      <td>1</td>\n",
       "      <td>90</td>\n",
       "      <td>3</td>\n",
       "      <td>111</td>\n",
       "      <td>15</td>\n",
       "    </tr>\n",
       "    <tr>\n",
       "      <th>9</th>\n",
       "      <td>1</td>\n",
       "      <td>90</td>\n",
       "      <td>4</td>\n",
       "      <td>36</td>\n",
       "      <td>15</td>\n",
       "    </tr>\n",
       "  </tbody>\n",
       "</table>\n",
       "</div>"
      ],
      "text/plain": [
       "   shopper  week  coupon  product  discount\n",
       "0        0    90       0       56        15\n",
       "1        0    90       1       16        15\n",
       "2        0    90       2      116        15\n",
       "3        0    90       3       38        15\n",
       "4        0    90       4      244        15\n",
       "5        1    90       0      117        15\n",
       "6        1    90       1       63        15\n",
       "7        1    90       2      116        15\n",
       "8        1    90       3      111        15\n",
       "9        1    90       4       36        15"
      ]
     },
     "execution_count": 111,
     "metadata": {},
     "output_type": "execute_result"
    }
   ],
   "source": [
    "top5coupons.head(n = 10)"
   ]
  },
  {
   "cell_type": "markdown",
   "metadata": {},
   "source": [
    "### Save Prediction"
   ]
  },
  {
   "cell_type": "code",
   "execution_count": 105,
   "metadata": {},
   "outputs": [],
   "source": [
    "#save final prediction\n",
    "top5coupons.to_parquet(path_datasets + '/coupon_index.parquet')"
   ]
  }
 ],
 "metadata": {
  "kernelspec": {
   "display_name": "Python 3",
   "language": "python",
   "name": "python3"
  },
  "language_info": {
   "codemirror_mode": {
    "name": "ipython",
    "version": 3
   },
   "file_extension": ".py",
   "mimetype": "text/x-python",
   "name": "python",
   "nbconvert_exporter": "python",
   "pygments_lexer": "ipython3",
   "version": "3.8.5"
  }
 },
 "nbformat": 4,
 "nbformat_minor": 4
}
