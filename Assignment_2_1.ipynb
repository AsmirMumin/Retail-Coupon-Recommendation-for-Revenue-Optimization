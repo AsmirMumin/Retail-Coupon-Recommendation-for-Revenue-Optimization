{
 "cells": [
  {
   "cell_type": "markdown",
   "metadata": {},
   "source": [
    "# Assignment 2"
   ]
  },
  {
   "cell_type": "markdown",
   "metadata": {},
   "source": [
    "## Exercise 1"
   ]
  },
  {
   "cell_type": "code",
   "execution_count": 1,
   "metadata": {},
   "outputs": [],
   "source": [
    "# import libraries\n",
    "import pandas as pd\n",
    "import numpy as np\n",
    "from sklearn.cluster import KMeans\n",
    "from sklearn.metrics import silhouette_score"
   ]
  },
  {
   "cell_type": "code",
   "execution_count": 12,
   "metadata": {},
   "outputs": [
    {
     "name": "stdout",
     "output_type": "stream",
     "text": [
      "Labels: [1 1 1 1 1 2 2 2 2 0 0 0 0]\n",
      "\n",
      "Centroids:\n",
      "[[ 13.75 198.75]\n",
      " [  9.4    2.  ]\n",
      " [ 18.    28.25]]\n",
      "\n",
      "Silhouette Score: 0.6710107898371873\n"
     ]
    }
   ],
   "source": [
    "# test data\n",
    "X = np.array([[5, 0], [6, 0], [5, 1], [10, 5], [21, 4], [19, 33],[20, 20], [30,30], [3,30],[20, 200], [30,210], [3,190], [2,195]])\n",
    "kmeans = KMeans(n_clusters=3, random_state=0).fit(X)\n",
    "print(f\"Labels: {kmeans.labels_}\\n\")\n",
    "\n",
    "print(f\"Centroids:\\n{kmeans.cluster_centers_}\\n\")\n",
    "\n",
    "print(f\"Silhouette Score: {silhouette_score(X,kmeans.labels_)}\")\n"
   ]
  },
  {
   "cell_type": "code",
   "execution_count": 10,
   "metadata": {},
   "outputs": [],
   "source": [
    "def silhouette(X, labels):\n",
    "  \"\"\"\n",
    "  Calculate the silhouette score in a classification task.\n",
    "\n",
    "  Definition of coefficient: \n",
    "            Silhouette Coefficient = (x-y)/ max(x,y)\n",
    "    where, y is the mean intra cluster distance: mean distance to the other instances in the same cluster. \n",
    "    x depicts mean nearest cluster distance i.e. mean distance to the instances of the next closest cluster.\n",
    "\n",
    "  Parameters\n",
    "  ----------\n",
    "  X : array of data points\n",
    "\n",
    "  labels : array of cluster label\n",
    "  \"\"\"\n",
    "\n",
    "  # create dictionary with cluster labels as key and list of data points as values\n",
    "  labs = dict()\n",
    "  for l in set(labels):\n",
    "    labs[l] = list()\n",
    "\n",
    "  # arrange in clusters and store them in dictionary\n",
    "  for obs, clus in zip(X, labels):\n",
    "    labs[clus].append(np.array(obs))\n",
    "\n",
    "  # intra-cluster distance\n",
    "  X_intracluster_distance = []\n",
    "  for l in labs:\n",
    "    for dp in labs[l]:\n",
    "      # mean pairwise distance\n",
    "      # tmp_dist = np.array(0)\n",
    "      tmp_dist = []\n",
    "      filter_flag = True\n",
    "      for dp_n in labs[l]:\n",
    "        # compare with all others in cluster\n",
    "        if np.array_equal(dp,dp_n) and filter_flag: \n",
    "          continue\n",
    "        tmp_dist.append(np.linalg.norm(dp-dp_n))\n",
    "        if (dp==dp_n).all():\n",
    "          filter_flag = False\n",
    "      # append to Array\n",
    "      X_intracluster_distance.append(np.array(tmp_dist).mean(axis=0))\n",
    "\n",
    "  \n",
    "  # calculate centroids for inter-cluster distance \n",
    "  # and store them in dictionary with label as key and centroid position as value\n",
    "  centroids = dict()\n",
    "  for l in labs:\n",
    "    centroids[l] = np.array(labs[l]).mean(axis=0)\n",
    "\n",
    "  # inter-cluster distance\n",
    "  X_intercluster_distance = []\n",
    "  # for all data points (dp) in each cluster do...\n",
    "  for l in labs:\n",
    "    for dp in labs[l]:\n",
    "      # find nearest other cluster\n",
    "      tmp_inter_dist = []\n",
    "      for c in centroids:\n",
    "        #for all OTHER clusters\n",
    "        if (l != c):\n",
    "          tmp_inter_dist.append(np.linalg.norm(dp-centroids[c]))\n",
    "      # append to array\n",
    "      X_intercluster_distance.append(min(tmp_inter_dist))\n",
    "\n",
    "  # calculate the silhouette score per observation\n",
    "  X_score_per_dp = []\n",
    "  for x, y in zip(X_intercluster_distance, X_intracluster_distance):\n",
    "    X_score_per_dp.append((x-y)/ max(x,y))\n",
    "\n",
    "  # the silhouette score is now the mean\n",
    "  return np.array(X_score_per_dp).mean()\n",
    "\n",
    "  # Debug options:\n",
    "  # print(\"intra: \" + str(X_intracluster_distance))\n",
    "  # print(\"inter: \" + str(X_intercluster_distance))"
   ]
  },
  {
   "cell_type": "code",
   "execution_count": 13,
   "metadata": {},
   "outputs": [
    {
     "data": {
      "text/plain": [
       "0.6605599624135416"
      ]
     },
     "execution_count": 13,
     "metadata": {},
     "output_type": "execute_result"
    }
   ],
   "source": [
    "silhouette(X,kmeans.labels_)"
   ]
  }
 ],
 "metadata": {
  "kernelspec": {
   "display_name": "Python 3",
   "language": "python",
   "name": "python3"
  },
  "language_info": {
   "codemirror_mode": {
    "name": "ipython",
    "version": 3
   },
   "file_extension": ".py",
   "mimetype": "text/x-python",
   "name": "python",
   "nbconvert_exporter": "python",
   "pygments_lexer": "ipython3",
   "version": "3.8.3"
  }
 },
 "nbformat": 4,
 "nbformat_minor": 4
}
