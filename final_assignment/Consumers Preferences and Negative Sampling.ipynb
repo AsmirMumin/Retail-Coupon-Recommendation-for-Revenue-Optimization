{
 "cells": [
  {
   "cell_type": "markdown",
   "metadata": {},
   "source": [
    "# Consumer's Preference & Negative Samples"
   ]
  },
  {
   "cell_type": "code",
   "execution_count": 109,
   "metadata": {},
   "outputs": [],
   "source": [
    "import pickle\n",
    "with open(\"baskets_product_list.pickle\", \"rb\") as handle:\n",
    "    baskets = pickle.load(handle)"
   ]
  },
  {
   "cell_type": "code",
   "execution_count": 110,
   "metadata": {},
   "outputs": [
    {
     "data": {
      "text/html": [
       "<div>\n",
       "<style scoped>\n",
       "    .dataframe tbody tr th:only-of-type {\n",
       "        vertical-align: middle;\n",
       "    }\n",
       "\n",
       "    .dataframe tbody tr th {\n",
       "        vertical-align: top;\n",
       "    }\n",
       "\n",
       "    .dataframe thead th {\n",
       "        text-align: right;\n",
       "    }\n",
       "</style>\n",
       "<table border=\"1\" class=\"dataframe\">\n",
       "  <thead>\n",
       "    <tr style=\"text-align: right;\">\n",
       "      <th></th>\n",
       "      <th>shopper</th>\n",
       "      <th>week</th>\n",
       "      <th>products</th>\n",
       "      <th>price</th>\n",
       "      <th>basket_size</th>\n",
       "    </tr>\n",
       "  </thead>\n",
       "  <tbody>\n",
       "    <tr>\n",
       "      <th>0</th>\n",
       "      <td>0</td>\n",
       "      <td>0</td>\n",
       "      <td>[71, 91, 116, 123, 157, 167, 171, 184, 207, 225]</td>\n",
       "      <td>5908</td>\n",
       "      <td>10</td>\n",
       "    </tr>\n",
       "    <tr>\n",
       "      <th>1</th>\n",
       "      <td>0</td>\n",
       "      <td>1</td>\n",
       "      <td>[71, 91, 130, 157, 167, 191, 225]</td>\n",
       "      <td>4109</td>\n",
       "      <td>7</td>\n",
       "    </tr>\n",
       "    <tr>\n",
       "      <th>2</th>\n",
       "      <td>0</td>\n",
       "      <td>2</td>\n",
       "      <td>[52, 67, 71, 87, 91, 130, 184, 211, 238]</td>\n",
       "      <td>5108</td>\n",
       "      <td>9</td>\n",
       "    </tr>\n",
       "    <tr>\n",
       "      <th>3</th>\n",
       "      <td>0</td>\n",
       "      <td>3</td>\n",
       "      <td>[71, 91, 123, 130, 179, 184, 214, 225]</td>\n",
       "      <td>4681</td>\n",
       "      <td>8</td>\n",
       "    </tr>\n",
       "    <tr>\n",
       "      <th>4</th>\n",
       "      <td>0</td>\n",
       "      <td>4</td>\n",
       "      <td>[48, 67, 76, 91, 116, 123, 184, 225]</td>\n",
       "      <td>4740</td>\n",
       "      <td>8</td>\n",
       "    </tr>\n",
       "    <tr>\n",
       "      <th>...</th>\n",
       "      <td>...</td>\n",
       "      <td>...</td>\n",
       "      <td>...</td>\n",
       "      <td>...</td>\n",
       "      <td>...</td>\n",
       "    </tr>\n",
       "    <tr>\n",
       "      <th>179961</th>\n",
       "      <td>1999</td>\n",
       "      <td>85</td>\n",
       "      <td>[21, 48, 86, 144, 158, 168, 192]</td>\n",
       "      <td>3674</td>\n",
       "      <td>7</td>\n",
       "    </tr>\n",
       "    <tr>\n",
       "      <th>179962</th>\n",
       "      <td>1999</td>\n",
       "      <td>86</td>\n",
       "      <td>[4, 41, 64, 103, 132, 158, 220, 242]</td>\n",
       "      <td>4727</td>\n",
       "      <td>8</td>\n",
       "    </tr>\n",
       "    <tr>\n",
       "      <th>179963</th>\n",
       "      <td>1999</td>\n",
       "      <td>87</td>\n",
       "      <td>[31, 47, 50, 64, 86, 103, 158, 168, 194]</td>\n",
       "      <td>5344</td>\n",
       "      <td>9</td>\n",
       "    </tr>\n",
       "    <tr>\n",
       "      <th>179964</th>\n",
       "      <td>1999</td>\n",
       "      <td>88</td>\n",
       "      <td>[18, 47, 64, 144, 158, 168, 170, 192]</td>\n",
       "      <td>4712</td>\n",
       "      <td>8</td>\n",
       "    </tr>\n",
       "    <tr>\n",
       "      <th>179965</th>\n",
       "      <td>1999</td>\n",
       "      <td>89</td>\n",
       "      <td>[4, 29, 31, 46, 75, 108, 114, 131, 144, 158, 1...</td>\n",
       "      <td>7515</td>\n",
       "      <td>13</td>\n",
       "    </tr>\n",
       "  </tbody>\n",
       "</table>\n",
       "<p>179966 rows × 5 columns</p>\n",
       "</div>"
      ],
      "text/plain": [
       "        shopper  week                                           products  \\\n",
       "0             0     0   [71, 91, 116, 123, 157, 167, 171, 184, 207, 225]   \n",
       "1             0     1                  [71, 91, 130, 157, 167, 191, 225]   \n",
       "2             0     2           [52, 67, 71, 87, 91, 130, 184, 211, 238]   \n",
       "3             0     3             [71, 91, 123, 130, 179, 184, 214, 225]   \n",
       "4             0     4               [48, 67, 76, 91, 116, 123, 184, 225]   \n",
       "...         ...   ...                                                ...   \n",
       "179961     1999    85                   [21, 48, 86, 144, 158, 168, 192]   \n",
       "179962     1999    86               [4, 41, 64, 103, 132, 158, 220, 242]   \n",
       "179963     1999    87           [31, 47, 50, 64, 86, 103, 158, 168, 194]   \n",
       "179964     1999    88              [18, 47, 64, 144, 158, 168, 170, 192]   \n",
       "179965     1999    89  [4, 29, 31, 46, 75, 108, 114, 131, 144, 158, 1...   \n",
       "\n",
       "        price  basket_size  \n",
       "0        5908           10  \n",
       "1        4109            7  \n",
       "2        5108            9  \n",
       "3        4681            8  \n",
       "4        4740            8  \n",
       "...       ...          ...  \n",
       "179961   3674            7  \n",
       "179962   4727            8  \n",
       "179963   5344            9  \n",
       "179964   4712            8  \n",
       "179965   7515           13  \n",
       "\n",
       "[179966 rows x 5 columns]"
      ]
     },
     "execution_count": 110,
     "metadata": {},
     "output_type": "execute_result"
    }
   ],
   "source": [
    "baskets = baskets[baskets[\"shopper\"]<2000]\n",
    "baskets"
   ]
  },
  {
   "cell_type": "code",
   "execution_count": 101,
   "metadata": {},
   "outputs": [],
   "source": [
    "import module_negatives"
   ]
  },
  {
   "cell_type": "code",
   "execution_count": 102,
   "metadata": {},
   "outputs": [],
   "source": [
    "negative_sampler = module_negatives.NegativeSampleGenerator(baskets,no_customers=2000)"
   ]
  },
  {
   "cell_type": "code",
   "execution_count": 103,
   "metadata": {},
   "outputs": [],
   "source": [
    "negative_sampler.calculate_frequencies()"
   ]
  },
  {
   "cell_type": "code",
   "execution_count": 104,
   "metadata": {},
   "outputs": [
    {
     "data": {
      "text/plain": [
       "array([[ 0,  0,  0, ...,  0,  0, 13],\n",
       "       [ 6, 13,  0, ...,  0,  0,  6],\n",
       "       [ 0, 46,  0, ...,  0,  9,  5],\n",
       "       ...,\n",
       "       [ 0,  1,  0, ...,  0,  0,  6],\n",
       "       [ 0,  1,  1, ...,  1, 38,  0],\n",
       "       [ 0,  3,  0, ...,  0, 31,  0]], dtype=int8)"
      ]
     },
     "execution_count": 104,
     "metadata": {},
     "output_type": "execute_result"
    }
   ],
   "source": [
    "negative_sampler.get_total_frequency_without89()"
   ]
  },
  {
   "cell_type": "code",
   "execution_count": 105,
   "metadata": {},
   "outputs": [],
   "source": [
    "preferences = negative_sampler.calculate_customer_preferences(min_frequency=3)"
   ]
  },
  {
   "cell_type": "code",
   "execution_count": 106,
   "metadata": {},
   "outputs": [
    {
     "name": "stdout",
     "output_type": "stream",
     "text": [
      "0:\n",
      "[4, 11, 16, 38, 52, 56, 67, 71, 76, 81, 87, 91, 110, 116, 123, 130, 148, 157, 167, 171, 179, 181, 184, 191, 202, 207, 210, 211, 214, 225, 238, 244, 249]\n",
      "1:\n",
      "[0, 1, 4, 21, 22, 28, 33, 35, 36, 39, 42, 48, 50, 53, 63, 78, 83, 92, 94, 111, 116, 117, 125, 136, 142, 145, 146, 149, 156, 165, 168, 171, 182, 183, 189, 193, 199, 200, 209, 211, 212, 220, 228, 229, 235, 249]\n"
     ]
    }
   ],
   "source": [
    "negative_sampler.show_customer_preferences(2)"
   ]
  },
  {
   "cell_type": "code",
   "execution_count": 107,
   "metadata": {},
   "outputs": [
    {
     "name": "stdout",
     "output_type": "stream",
     "text": [
      "0% done.\n",
      "10% done.\n",
      "20% done.\n",
      "30% done.\n",
      "40% done.\n",
      "50% done.\n",
      "60% done.\n",
      "70% done.\n",
      "80% done.\n",
      "90% done.\n",
      "100% done.\n"
     ]
    }
   ],
   "source": [
    "df_negative_samples = negative_sampler.generate()"
   ]
  },
  {
   "cell_type": "code",
   "execution_count": 108,
   "metadata": {},
   "outputs": [
    {
     "data": {
      "text/html": [
       "<div>\n",
       "<style scoped>\n",
       "    .dataframe tbody tr th:only-of-type {\n",
       "        vertical-align: middle;\n",
       "    }\n",
       "\n",
       "    .dataframe tbody tr th {\n",
       "        vertical-align: top;\n",
       "    }\n",
       "\n",
       "    .dataframe thead th {\n",
       "        text-align: right;\n",
       "    }\n",
       "</style>\n",
       "<table border=\"1\" class=\"dataframe\">\n",
       "  <thead>\n",
       "    <tr style=\"text-align: right;\">\n",
       "      <th></th>\n",
       "      <th>week</th>\n",
       "      <th>shopper</th>\n",
       "      <th>product</th>\n",
       "      <th>product_bought</th>\n",
       "    </tr>\n",
       "  </thead>\n",
       "  <tbody>\n",
       "    <tr>\n",
       "      <th>0</th>\n",
       "      <td>0</td>\n",
       "      <td>0</td>\n",
       "      <td>238</td>\n",
       "      <td>0</td>\n",
       "    </tr>\n",
       "    <tr>\n",
       "      <th>1</th>\n",
       "      <td>0</td>\n",
       "      <td>0</td>\n",
       "      <td>16</td>\n",
       "      <td>0</td>\n",
       "    </tr>\n",
       "    <tr>\n",
       "      <th>2</th>\n",
       "      <td>0</td>\n",
       "      <td>0</td>\n",
       "      <td>130</td>\n",
       "      <td>0</td>\n",
       "    </tr>\n",
       "    <tr>\n",
       "      <th>3</th>\n",
       "      <td>0</td>\n",
       "      <td>0</td>\n",
       "      <td>181</td>\n",
       "      <td>0</td>\n",
       "    </tr>\n",
       "    <tr>\n",
       "      <th>4</th>\n",
       "      <td>0</td>\n",
       "      <td>0</td>\n",
       "      <td>52</td>\n",
       "      <td>0</td>\n",
       "    </tr>\n",
       "  </tbody>\n",
       "</table>\n",
       "</div>"
      ],
      "text/plain": [
       "  week shopper product  product_bought\n",
       "0    0       0     238               0\n",
       "1    0       0      16               0\n",
       "2    0       0     130               0\n",
       "3    0       0     181               0\n",
       "4    0       0      52               0"
      ]
     },
     "execution_count": 108,
     "metadata": {},
     "output_type": "execute_result"
    }
   ],
   "source": [
    "df_negative_samples.head()"
   ]
  },
  {
   "cell_type": "code",
   "execution_count": null,
   "metadata": {},
   "outputs": [],
   "source": [
    "df_negative_samples.to_parquet(\"df_negative_samples.parquet\")"
   ]
  },
  {
   "cell_type": "code",
   "execution_count": 315,
   "metadata": {},
   "outputs": [],
   "source": [
    "# with open(\"preferences_min3.pickle\", \"wb\") as handle:\n",
    "#     pickle.dump(preferences, handle)"
   ]
  },
  {
   "cell_type": "code",
   "execution_count": 3,
   "metadata": {},
   "outputs": [],
   "source": [
    "# with open(\"preferences_min3.pickle\", \"rb\") as handle:\n",
    "#     preferences = pickle.load(handle)"
   ]
  },
  {
   "cell_type": "code",
   "execution_count": 34,
   "metadata": {},
   "outputs": [],
   "source": [
    "# with open(\"df_negative_samples.pickle\", \"wb\") as handle:\n",
    "#     pickle.dump(df_negative_samples, handle)"
   ]
  }
 ],
 "metadata": {
  "kernelspec": {
   "display_name": "Python 3",
   "language": "python",
   "name": "python3"
  },
  "language_info": {
   "codemirror_mode": {
    "name": "ipython",
    "version": 3
   },
   "file_extension": ".py",
   "mimetype": "text/x-python",
   "name": "python",
   "nbconvert_exporter": "python",
   "pygments_lexer": "ipython3",
   "version": "3.8.5"
  }
 },
 "nbformat": 4,
 "nbformat_minor": 4
}
