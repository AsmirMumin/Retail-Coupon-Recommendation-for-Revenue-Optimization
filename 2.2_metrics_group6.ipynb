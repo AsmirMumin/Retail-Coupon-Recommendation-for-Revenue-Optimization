{
 "cells": [
  {
   "cell_type": "markdown",
   "metadata": {},
   "source": [
    "# Exercise 05: Homework Assignment 2.1 (w/o solution)\n",
    "\n",
    "Homework \"ML Fundamentals & Implementation\"\n",
    "\n",
    "Please add your implementations in the indicated cells below."
   ]
  },
  {
   "cell_type": "code",
   "execution_count": null,
   "metadata": {},
   "outputs": [],
   "source": [
    "import numpy as np\n",
    "import pandas as pd\n",
    "\n",
    "import sklearn.metrics\n",
    "import sklearn.datasets\n",
    "import sklearn.model_selection\n",
    "import sklearn.linear_model\n",
    "import sklearn.cluster\n",
    "import sklearn.metrics.pairwise\n",
    "\n",
    "import statsmodels.regression\n",
    "\n",
    "import matplotlib.pyplot as plt\n",
    "import seaborn as sns"
   ]
  },
  {
   "cell_type": "code",
   "execution_count": 2,
   "metadata": {},
   "outputs": [],
   "source": [
    "N = 1_000"
   ]
  },
  {
   "cell_type": "code",
   "execution_count": 3,
   "metadata": {},
   "outputs": [],
   "source": [
    "np.random.seed(501)"
   ]
  },
  {
   "cell_type": "markdown",
   "metadata": {},
   "source": [
    "<br>\n",
    "<br>\n",
    "\n",
    "## Binary Cross-Entropy Loss\n",
    "\n",
    "$\n",
    "{\\displaystyle Loss=-\\sum _{x\\in {\\mathcal {X}}}y\\,\\log p(x)}\n",
    "$"
   ]
  },
  {
   "cell_type": "markdown",
   "metadata": {},
   "source": [
    "### Data"
   ]
  },
  {
   "cell_type": "code",
   "execution_count": 4,
   "metadata": {},
   "outputs": [],
   "source": [
    "X, y = sklearn.datasets.make_classification(\n",
    "    n_samples=N,\n",
    "    n_classes=2,\n",
    "    n_features=20,\n",
    "    random_state=501\n",
    ")\n",
    "X_train, X_test, y_train, y_test = sklearn.model_selection.train_test_split(\n",
    "    X,\n",
    "    y,\n",
    "    test_size=0.3\n",
    ")\n",
    "\n",
    "model1 = sklearn.linear_model.LogisticRegression()\n",
    "model1.fit(X_train, y_train)\n",
    "\n",
    "df = pd.DataFrame({\n",
    "    \"y\": y_test,\n",
    "    \"p\": model1.predict_proba(X_test)[:,1]\n",
    "})"
   ]
  },
  {
   "cell_type": "markdown",
   "metadata": {},
   "source": [
    "### sklearn"
   ]
  },
  {
   "cell_type": "code",
   "execution_count": 5,
   "metadata": {},
   "outputs": [
    {
     "data": {
      "text/plain": [
       "0.36328772771094564"
      ]
     },
     "execution_count": 5,
     "metadata": {},
     "output_type": "execute_result"
    }
   ],
   "source": [
    "loss_skl = sklearn.metrics.log_loss(df[\"y\"], df[\"p\"])\n",
    "loss_skl"
   ]
  },
  {
   "cell_type": "markdown",
   "metadata": {},
   "source": [
    "### Manual implementation"
   ]
  },
  {
   "cell_type": "code",
   "execution_count": 6,
   "metadata": {},
   "outputs": [],
   "source": [
    "def cross_entropy(no_obs, actual_val, pred_prob):\n",
    "\n",
    "  total_log = 0\n",
    "  j = 0\n",
    "\n",
    "  for i in actual_val:\n",
    "    if i == 1:\n",
    "        log = -(1/no_obs)*np.log(pred_prob[j])\n",
    "        \n",
    "    else:\n",
    "        log = -(1/no_obs)*np.log(1-pred_prob[j])\n",
    "        \n",
    "    j = j + 1\n",
    "    total_log = total_log + log\n",
    "\n",
    "  print(total_log)"
   ]
  },
  {
   "cell_type": "code",
   "execution_count": null,
   "metadata": {},
   "outputs": [],
   "source": [
    "cross_entropy(300, df.y, df.p)"
   ]
  },
  {
   "cell_type": "markdown",
   "metadata": {},
   "source": [
    "<br>\n",
    "<br>\n",
    "\n",
    "## R<sup>2</sup> Score (Coefficient of Determination)\n",
    "\n",
    "### Mathematical\n",
    "\n",
    "$\n",
    "{\\displaystyle R^{2}=1-{SS_{\\rm {res}} \\over SS_{\\rm {tot}}}\\,}\n",
    "$\n",
    "\n",
    "with \n",
    "\n",
    "$\n",
    "\\quad {\\displaystyle \\color{red}{SS_{\\text{tot}}}=\\sum _{i}(y_{i}-{\\bar {y}})^{2}}\n",
    "$\n",
    "\n",
    "$\n",
    "\\quad {\\displaystyle \\color{blue}{SS_{\\text{res}}}=\\sum _{i}(y_{i}-f_{i})^{2}=\\sum _{i}e_{i}^{2}\\,}\n",
    "$\n",
    "\n",
    "$\n",
    "\\quad {\\bar {y}}={\\frac {1}{n}}\\sum _{i=1}^{n}y_{i}\n",
    "$\n",
    "\n",
    "### Visual\n",
    "\n",
    "<center><img src=../img/r2.png width=\"600\"></center>\n",
    "\n",
    "[(Source)](https://en.wikipedia.org/wiki/Coefficient_of_determination)"
   ]
  },
  {
   "cell_type": "code",
   "execution_count": 7,
   "metadata": {},
   "outputs": [
    {
     "data": {
      "text/plain": [
       "(array(25.87264287), array([26.18812014]))"
      ]
     },
     "execution_count": 7,
     "metadata": {},
     "output_type": "execute_result"
    }
   ],
   "source": [
    "X, y, coef = sklearn.datasets.make_regression(\n",
    "    n_samples=N,\n",
    "    n_features=1,\n",
    "    n_informative=1,\n",
    "    noise=10,\n",
    "    coef=True,\n",
    "    random_state=501\n",
    ")\n",
    "\n",
    "lr = sklearn.linear_model.LinearRegression()\n",
    "lr_res = lr.fit(X, y)\n",
    "\n",
    "df = pd.DataFrame({\n",
    "    \"y\": y,\n",
    "    \"yhat\": lr.predict(X),\n",
    "})\n",
    "\n",
    "coef, lr.coef_"
   ]
  },
  {
   "cell_type": "code",
   "execution_count": 8,
   "metadata": {},
   "outputs": [
    {
     "data": {
      "image/png": "[encoded data removed]",
      "text/plain": [
       "<Figure size 576x432 with 1 Axes>"
      ]
     },
     "metadata": {
      "needs_background": "light"
     },
     "output_type": "display_data"
    }
   ],
   "source": [
    "plt.figure(figsize=(8,6))\n",
    "y_min = df.values.min()\n",
    "y_max = df.values.max()\n",
    "plt.plot(\n",
    "    [y_min, y_max],\n",
    "    [y_min, y_max],\n",
    "    color=\"navy\",\n",
    "    linestyle=\"--\"\n",
    ")\n",
    "sns.regplot(\n",
    "    x=\"y\",\n",
    "    y=\"yhat\",\n",
    "    data=df,\n",
    "    scatter_kws={\"alpha\": 0.2}\n",
    ")\n",
    "plt.xlabel(\"True\")\n",
    "_ = plt.ylabel(\"Predicted\")"
   ]
  },
  {
   "cell_type": "markdown",
   "metadata": {},
   "source": [
    "### sklearn"
   ]
  },
  {
   "cell_type": "code",
   "execution_count": 9,
   "metadata": {},
   "outputs": [],
   "source": [
    "r2_skl = sklearn.metrics.r2_score(\n",
    "    df[\"y\"],\n",
    "    df[\"yhat\"]\n",
    ")"
   ]
  },
  {
   "cell_type": "markdown",
   "metadata": {},
   "source": [
    "### Manual implementation"
   ]
  },
  {
   "cell_type": "code",
   "execution_count": 10,
   "metadata": {},
   "outputs": [],
   "source": [
    "# please add your implementation here"
   ]
  },
  {
   "cell_type": "markdown",
   "metadata": {},
   "source": [
    "<br>\n",
    "<br>\n",
    "\n",
    "## Silhouette\n",
    "\n",
    "### Mathematical\n",
    "\n",
    "For each point $i$:\n",
    "\n",
    "$\n",
    "{\\displaystyle s(i)={\\frac {b(i)-a(i)}{\\max\\{a(i),b(i)\\}}}}\n",
    "$\n",
    "\n",
    "with\n",
    "\n",
    "$\n",
    "\\quad {\\displaystyle a(i)={\\frac {1}{|C_{i}|-1}}\\sum _{j\\in C_{i},i\\neq j}d(i,j)}\n",
    "$\n",
    "\n",
    "$\n",
    "\\quad {\\displaystyle b(i)=\\min _{k\\neq i}{\\frac {1}{|C_{k}|}}\\sum _{j\\in C_{k}}d(i,j)}\n",
    "$\n",
    "\n",
    "\n",
    "### Visual\n",
    "\n",
    "<center><img src=../img/silhouette.png width=\"500\"></center>\n"
   ]
  },
  {
   "cell_type": "markdown",
   "metadata": {},
   "source": [
    "### Data"
   ]
  },
  {
   "cell_type": "code",
   "execution_count": 11,
   "metadata": {},
   "outputs": [],
   "source": [
    "X, y = sklearn.datasets.make_blobs(\n",
    "    n_samples=N,\n",
    "    n_features=2,\n",
    "    centers=4,\n",
    "    cluster_std=1,\n",
    "    center_box=(-10.0, 10.0),\n",
    "    shuffle=True,\n",
    "    random_state=501\n",
    ")"
   ]
  },
  {
   "cell_type": "markdown",
   "metadata": {},
   "source": [
    "### sklearn"
   ]
  },
  {
   "cell_type": "code",
   "execution_count": 12,
   "metadata": {},
   "outputs": [
    {
     "data": {
      "text/plain": [
       "0.693663427967365"
      ]
     },
     "execution_count": 12,
     "metadata": {},
     "output_type": "execute_result"
    }
   ],
   "source": [
    "clusterer = sklearn.cluster.KMeans(\n",
    "    n_clusters=3,\n",
    "    random_state=501\n",
    ")\n",
    "cluster_labels = clusterer.fit_predict(X)\n",
    "sil_skl = sklearn.metrics.silhouette_score(\n",
    "    X,\n",
    "    cluster_labels\n",
    ")\n",
    "sil_skl"
   ]
  },
  {
   "cell_type": "code",
   "execution_count": 13,
   "metadata": {},
   "outputs": [],
   "source": [
    "sil_samples_skl = sklearn.metrics.silhouette_samples(\n",
    "    X,\n",
    "    cluster_labels\n",
    ")"
   ]
  },
  {
   "cell_type": "markdown",
   "metadata": {},
   "source": [
    "### Manual implementation"
   ]
  },
  {
   "cell_type": "code",
   "execution_count": 14,
   "metadata": {},
   "outputs": [],
   "source": [
    "# please add your implementation here"
   ]
  },
  {
   "cell_type": "code",
   "execution_count": 15,
   "metadata": {},
   "outputs": [],
   "source": [
    "# plt.figure(figsize=(8,6))\n",
    "# plt.scatter(sil_samples_skl, sil_samples, alpha=.2) # sil_samples is your sample-level silhouette\n",
    "# plt.plot([0, 1], [0, 1], color=\"navy\", linestyle=\"--\")\n",
    "# plt.xlabel(\"Silhouette `sklearn`\")\n",
    "# plt.ylabel(\"Silhouette\")\n",
    "# _ = plt.title(\"Silhouette Score Comparison\")"
   ]
  },
  {
   "cell_type": "markdown",
   "metadata": {},
   "source": [
    "<br>\n",
    "<br>\n",
    "\n",
    "## AUC\n",
    "\n",
    "Based on confusion matrix:\n",
    "\n",
    "<center><img src=../img/confusion.png width=\"1200\"></center>\n",
    "\n",
    "[(Source)](https://en.wikipedia.org/wiki/Confusion_matrix)"
   ]
  },
  {
   "cell_type": "markdown",
   "metadata": {},
   "source": [
    "### Plot ROC Curve"
   ]
  },
  {
   "cell_type": "code",
   "execution_count": 16,
   "metadata": {},
   "outputs": [],
   "source": [
    "def plot_roc_curve(fpr, tpr):\n",
    "    plt.figure(figsize=(8,6))\n",
    "    plt.plot(\n",
    "        fpr,\n",
    "        tpr,\n",
    "        color=\"darkorange\",\n",
    "        lw=2\n",
    "    )\n",
    "    plt.plot(\n",
    "        [0, 1],\n",
    "        [0, 1],\n",
    "        color=\"navy\",\n",
    "        lw=2,\n",
    "        linestyle=\"--\"\n",
    "    )\n",
    "    plt.xlim([0.0, 1.0])\n",
    "    plt.ylim([0.0, 1.05])\n",
    "    plt.xlabel(\"False Positive Rate\")\n",
    "    plt.ylabel(\"True Positive Rate\")\n",
    "    plt.title(\"Receiver Operating Characteristic Curve\")\n",
    "    plt.show()"
   ]
  },
  {
   "cell_type": "markdown",
   "metadata": {},
   "source": [
    "### Data"
   ]
  },
  {
   "cell_type": "code",
   "execution_count": 17,
   "metadata": {},
   "outputs": [],
   "source": [
    "X, y = sklearn.datasets.make_classification(\n",
    "    n_samples=N,\n",
    "    n_classes=2,\n",
    "    n_features=20,\n",
    "    random_state=501\n",
    ")\n",
    "X_train, X_test, y_train, y_test = sklearn.model_selection.train_test_split(\n",
    "    X,\n",
    "    y,\n",
    "    test_size=0.3\n",
    ")\n",
    "\n",
    "model1 = sklearn.linear_model.LogisticRegression()\n",
    "model1.fit(X_train, y_train)\n",
    "\n",
    "df = pd.DataFrame({\n",
    "    \"y\": y_test,\n",
    "    \"p\": model1.predict_proba(X_test)[:,1]\n",
    "})"
   ]
  },
  {
   "cell_type": "markdown",
   "metadata": {},
   "source": [
    "### sklearn"
   ]
  },
  {
   "cell_type": "code",
   "execution_count": 18,
   "metadata": {},
   "outputs": [
    {
     "data": {
      "text/plain": [
       "0.9399332591768632"
      ]
     },
     "execution_count": 18,
     "metadata": {},
     "output_type": "execute_result"
    }
   ],
   "source": [
    "auc_skl = sklearn.metrics.roc_auc_score(\n",
    "    df[\"y\"],\n",
    "    df[\"p\"]\n",
    ")\n",
    "auc_skl"
   ]
  },
  {
   "cell_type": "code",
   "execution_count": 19,
   "metadata": {},
   "outputs": [],
   "source": [
    "fpr_skl, tpr_skl, _ = sklearn.metrics.roc_curve(\n",
    "    df[\"y\"],\n",
    "    df[\"p\"]\n",
    ")"
   ]
  },
  {
   "cell_type": "code",
   "execution_count": 20,
   "metadata": {},
   "outputs": [
    {
     "data": {
      "image/png": "[encoded data removed]",
      "text/plain": [
       "<Figure size 576x432 with 1 Axes>"
      ]
     },
     "metadata": {
      "needs_background": "light"
     },
     "output_type": "display_data"
    }
   ],
   "source": [
    "plot_roc_curve(fpr_skl, tpr_skl)"
   ]
  },
  {
   "cell_type": "markdown",
   "metadata": {},
   "source": [
    "### Manual implementation"
   ]
  },
  {
   "cell_type": "code",
   "execution_count": 21,
   "metadata": {},
   "outputs": [],
   "source": [
    "# please add your implementation here"
   ]
  },
  {
   "cell_type": "code",
   "execution_count": 22,
   "metadata": {},
   "outputs": [],
   "source": [
    "# plot_roc_curve(df_sorted[\"fpr\"], df_sorted[\"tpr\"]) # df_sorted includes your computation for FPR and TPR"
   ]
  },
  {
   "cell_type": "markdown",
   "metadata": {},
   "source": [
    "&mdash; <br>\n",
    "Dr. Sebastian Gabel <br>\n",
    "Machine Learning in Marketing &ndash; Exercise 05 <br>\n",
    "2020 <br>"
   ]
  }
 ],
 "metadata": {
  "kernelspec": {
   "display_name": "Python 3",
   "language": "python",
   "name": "python3"
  },
  "language_info": {
   "codemirror_mode": {
    "name": "ipython",
    "version": 3
   },
   "file_extension": ".py",
   "mimetype": "text/x-python",
   "name": "python",
   "nbconvert_exporter": "python",
   "pygments_lexer": "ipython3",
   "version": "3.7.4"
  }
 },
 "nbformat": 4,
 "nbformat_minor": 4
}
