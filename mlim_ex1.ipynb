{
 "cells": [
  {
   "cell_type": "markdown",
   "metadata": {},
   "source": [
    "# Homework Assignment 1"
   ]
  },
  {
   "cell_type": "markdown",
   "metadata": {},
   "source": [
    "## Part 2: Python classes "
   ]
  },
  {
   "cell_type": "code",
   "execution_count": 1,
   "metadata": {},
   "outputs": [
    {
     "data": {
      "text/plain": [
       "'/Users/asmir/mlim_project/mlim/img'"
      ]
     },
     "execution_count": 1,
     "metadata": {},
     "output_type": "execute_result"
    }
   ],
   "source": [
    "import os\n",
    "os.getcwd()"
   ]
  },
  {
   "cell_type": "code",
   "execution_count": 2,
   "metadata": {},
   "outputs": [],
   "source": [
    "os.chdir('/Users/asmir/mlim_project/mlim/exercises')"
   ]
  },
  {
   "cell_type": "code",
   "execution_count": 3,
   "metadata": {},
   "outputs": [],
   "source": [
    "import json\n",
    "import yaml \n",
    "\n",
    "config_path = \"e01-config.yaml\"\n",
    "\n",
    "def config_reader(config_path):\n",
    "    if \".yaml\" in config_path:\n",
    "        with open(\"e01-config.yaml\") as file:\n",
    "            cfg = yaml.safe_load(file)\n",
    "        print(cfg)\n",
    "        #edit yaml\n",
    "        with open(\"cfg.yaml\", \"w\") as outfile:\n",
    "            yaml.dump(cfg, outfile)\n",
    "    elif \".json\" in config_path:\n",
    "        with open(config_path) as json_config_file:\n",
    "            cfg = json.load(json_data_file)\n",
    "        print(cfg)\n",
    "        #edit json\n",
    "        with open(\"config.json\", \"w\") as outfile:\n",
    "            json.dump(cfg, outfile)\n",
    "    else:\n",
    "        print(\"The given datatype of the config file is not supported\")"
   ]
  },
  {
   "cell_type": "code",
   "execution_count": 4,
   "metadata": {},
   "outputs": [
    {
     "name": "stdout",
     "output_type": "stream",
     "text": [
      "{'author': 'sebastian', 'version': 1.1, 'pipeline': ['data', 'p2v', 'tsne'], 'config': {'data': {'variable_basket': 'basket_hash', 'variable_values': ['j'], 'batch_size': 1000, 'shuffle': True, 'n_negative_samples': 20, 'power': 0.75}, 'p2v': {'p2v_kwargs': {'size': 15, 'bias_negative_sampling': True, 'product_bias_negative_sampling': False, 'normalise_weights': False, 'regularisation': None, 'use_covariates': False, 'optimizer': {'method': 'adam', 'control': {'beta1': 0.9, 'beta2': 0.999, 'epsilon': '1e-08'}}, 'path_results': './results/p2v-map-example', 'n_batch_save': 1000, 'n_batch_validation': 1000000, 'n_batch_print': 1000, 'n_products': 150, 'verbose': 0, 'train_streamer': None, 'validation_streamer': None, 'test_streamer': None}, 'p2v_train_kwargs': {'n_epoch': 5, 'learning_rate': 0.0005}}, 'tsne': {'tsne_data_kwargs': {'epoch': 4, 'batch': 3000, 'l2norm': True, 'pca': None, 'path_results': './results/p2v-map-example'}, 'tsne_kwargs': {'random_state': 1, 'n_components': 2, 'n_iter': 4000, 'perplexity': 15, 'init': 'pca', 'angle': 0.5, 'verbose': 0}}}}\n"
     ]
    }
   ],
   "source": [
    "config_reader(config_path)"
   ]
  },
  {
   "cell_type": "code",
   "execution_count": 13,
   "metadata": {},
   "outputs": [],
   "source": [
    "# legacy\n",
    "#with open(config_path, \"r\") as yml_config_file:\n",
    " #           cfg = yaml.load(yml_config_file)\n",
    "  #      print(cfg)"
   ]
  },
  {
   "cell_type": "markdown",
   "metadata": {},
   "source": [
    "## Part 3: Co-occurance matrix"
   ]
  },
  {
   "cell_type": "code",
   "execution_count": 11,
   "metadata": {},
   "outputs": [],
   "source": [
    "import pandas as pd\n",
    "coocc = pd.read_csv(\"order_products__prior.csv\")"
   ]
  },
  {
   "cell_type": "code",
   "execution_count": 12,
   "metadata": {},
   "outputs": [],
   "source": [
    "coocc = coocc[['order_id', 'product_id']].astype(int)"
   ]
  },
  {
   "cell_type": "code",
   "execution_count": 8,
   "metadata": {},
   "outputs": [],
   "source": [
    "#coocc = coocc.T.dot(coocc)"
   ]
  },
  {
   "cell_type": "code",
   "execution_count": 10,
   "metadata": {},
   "outputs": [
    {
     "data": {
      "text/html": [
       "<div>\n",
       "<style scoped>\n",
       "    .dataframe tbody tr th:only-of-type {\n",
       "        vertical-align: middle;\n",
       "    }\n",
       "\n",
       "    .dataframe tbody tr th {\n",
       "        vertical-align: top;\n",
       "    }\n",
       "\n",
       "    .dataframe thead th {\n",
       "        text-align: right;\n",
       "    }\n",
       "</style>\n",
       "<table border=\"1\" class=\"dataframe\">\n",
       "  <thead>\n",
       "    <tr style=\"text-align: right;\">\n",
       "      <th></th>\n",
       "      <th>order_id</th>\n",
       "      <th>product_id</th>\n",
       "    </tr>\n",
       "  </thead>\n",
       "  <tbody>\n",
       "    <tr>\n",
       "      <th>order_id</th>\n",
       "      <td>0</td>\n",
       "      <td>1419123857092042854</td>\n",
       "    </tr>\n",
       "    <tr>\n",
       "      <th>product_id</th>\n",
       "      <td>1419123857092042854</td>\n",
       "      <td>0</td>\n",
       "    </tr>\n",
       "  </tbody>\n",
       "</table>\n",
       "</div>"
      ],
      "text/plain": [
       "                       order_id           product_id\n",
       "order_id                      0  1419123857092042854\n",
       "product_id  1419123857092042854                    0"
      ]
     },
     "execution_count": 10,
     "metadata": {},
     "output_type": "execute_result"
    }
   ],
   "source": [
    "import numpy as np\n",
    "np.fill_diagonal(coocc.values, 0)\n",
    "\n",
    "coocc"
   ]
  },
  {
   "cell_type": "code",
   "execution_count": 13,
   "metadata": {},
   "outputs": [
    {
     "name": "stdout",
     "output_type": "stream",
     "text": [
      "\n",
      "cooccurrence_matrix:\n",
      "[[-2586542914233811614  1419123857092042854]\n",
      " [ 1419123857092042854    27662262480973951]]\n"
     ]
    }
   ],
   "source": [
    "cooccurrence_matrix = np.dot(coocc.transpose(),coocc)\n",
    "print('\\ncooccurrence_matrix:\\n{0}'.format(cooccurrence_matrix))"
   ]
  },
  {
   "cell_type": "markdown",
   "metadata": {},
   "source": [
    "## Git Tutorial"
   ]
  },
  {
   "cell_type": "markdown",
   "metadata": {},
   "source": [
    "### Goal:\n",
    "\n",
    "We want to have an efficient way of collaborating on software projects. This means, we need a way to work on code independently and exchange it with others without risking to overwrite their code.\n",
    "\n",
    "### Principle:\n",
    "* One mainline \n",
    "    * Do not merge to mainline without code reviews from other team members\n",
    "    * Rather create branches and push your code to the branch\n",
    "* You want to update your local version of the code with newest code additions from remote mainline\n",
    "* You want to update the remote branches with your newest local code additions\n",
    "* Before merging your dev branch to local mainline: bring repo mainline to local mainline using **pull** \n",
    "\n",
    "\n",
    "### Commands\n",
    "* cloning remote mainline repo to a local folder\n",
    "    * git clone (ssh:)+ url + name of branch\n",
    "* navigate to local folder using bash/command line tool \n",
    "---\n",
    "\n",
    "* git status --> tells me where I am and what the status is\n",
    "* git fetch --> read only command to detemrine if something is in the repo in terms of meta information but not in your local version \n",
    "* git pull --> will modify your local repo version\n",
    "    * brings in actual changes to local\n",
    "        * be careful, this can break your local repo. **CAUTION!!!**\n",
    "* git update --> softer version of git pull\n",
    "* git push --> pushes code changes\n",
    "* git checkout --track origin/dev --> create a copy of dev_asmir line \n",
    "---\n",
    "\n",
    "* cat xyz.txt --> tells you what´s in there\n",
    "\n",
    "\n",
    "### How to create a branch? \n",
    "\n",
    "* git branch -a  --> tells you what exists\n",
    "* git checkout -b dev_asmir --> creates branch dev_asmir \n",
    "    * **dev_asmir only exists locally for now**\n",
    "* git push origin dev_asmir \n",
    "* git branch --set-upstream-to=origin/dev_asmir dev_asmir \n",
    "    * we link local branch to remote branch \n",
    "    * synches upstream branch on the remote repo orign/dev asmir \n",
    "* git add config.txt\n",
    "* git commit -m \"adding notes\"\n",
    "* git fetch --> brings in the meta information from remote --> tells me what´s going on \n",
    "* git pull \n",
    "* git merge dev_asmir \n",
    "\n",
    "### Removing files remotely only \n",
    "* git rm --cached 'file name'\n",
    "* git commit -m'message'\n",
    "* git push -u origin branch "
   ]
  },
  {
   "cell_type": "code",
   "execution_count": null,
   "metadata": {},
   "outputs": [],
   "source": []
  }
 ],
 "metadata": {
  "kernelspec": {
   "display_name": "Python 3",
   "language": "python",
   "name": "python3"
  },
  "language_info": {
   "codemirror_mode": {
    "name": "ipython",
    "version": 3
   },
   "file_extension": ".py",
   "mimetype": "text/x-python",
   "name": "python",
   "nbconvert_exporter": "python",
   "pygments_lexer": "ipython3",
   "version": "3.7.6"
  }
 },
 "nbformat": 4,
 "nbformat_minor": 4
}
