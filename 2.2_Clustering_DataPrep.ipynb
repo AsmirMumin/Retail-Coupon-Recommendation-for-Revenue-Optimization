{
 "cells": [
  {
   "cell_type": "code",
   "execution_count": 6,
   "metadata": {},
   "outputs": [
    {
     "name": "stdout",
     "output_type": "stream",
     "text": [
      "/Users/Bisa/Documents/Studium/Masterstudium/5_Semester/MLiM/mlim_13/instacart\n"
     ]
    }
   ],
   "source": [
    "#set your wd\n",
    "%cd /Users/Bisa/Documents/Studium/Masterstudium/5_Semester/MLiM/mlim_13/instacart"
   ]
  },
  {
   "cell_type": "code",
   "execution_count": 3,
   "metadata": {},
   "outputs": [],
   "source": [
    "#import libraries\n",
    "import pandas as pd"
   ]
  },
  {
   "cell_type": "code",
   "execution_count": 11,
   "metadata": {},
   "outputs": [],
   "source": [
    "#load the data\n",
    "aisles = pd.read_csv(\"aisles.csv\")\n",
    "dept = pd.read_csv(\"departments.csv\")\n",
    "ordprod_prior = pd.read_csv(\"order_products__prior.csv\")\n",
    "ordprod_train = pd.read_csv(\"order_products__train.csv\")\n",
    "ord = pd.read_csv(\"orders.csv\")\n",
    "prod = pd.read_csv(\"products.csv\")"
   ]
  },
  {
   "cell_type": "code",
   "execution_count": 16,
   "metadata": {},
   "outputs": [
    {
     "name": "stdout",
     "output_type": "stream",
     "text": [
      "Shape of aisles:  (134, 2)\n",
      "Shape of departments:  (21, 2)\n",
      "Shape of prior products_order:  (32434489, 4)\n",
      "Shape of train products_order:  (1384617, 4)\n",
      "Shape of orders:  (3421083, 7)\n",
      "Shape of products:  (49688, 4)\n"
     ]
    }
   ],
   "source": [
    "print(\"Shape of aisles: \", aisles.shape)\n",
    "print(\"Shape of departments: \", dept.shape)\n",
    "print(\"Shape of prior products_order: \", ordprod_prior.shape)\n",
    "print(\"Shape of train products_order: \", ordprod_train.shape)\n",
    "print(\"Shape of orders: \", ord.shape)\n",
    "print(\"Shape of products: \", prod.shape)"
   ]
  },
  {
   "cell_type": "code",
   "execution_count": 25,
   "metadata": {},
   "outputs": [
    {
     "name": "stdout",
     "output_type": "stream",
     "text": [
      "Variable names of aisles:  ['aisle_id', 'aisle']\n",
      "Variable names of departments:  ['department_id', 'department']\n",
      "Variable names of prior products_order:  ['order_id', 'product_id', 'add_to_cart_order', 'reordered']\n",
      "Variable names of train products_order:  ['order_id', 'product_id', 'add_to_cart_order', 'reordered']\n",
      "Variable names of orders:  ['order_id', 'user_id', 'eval_set', 'order_number', 'order_dow', 'order_hour_of_day', 'days_since_prior_order']\n",
      "Variable names of products:  ['product_id', 'product_name', 'aisle_id', 'department_id']\n"
     ]
    }
   ],
   "source": [
    "print(\"Variable names of aisles: \", list(aisles.columns))\n",
    "print(\"Variable names of departments: \", list(dept.columns))\n",
    "print(\"Variable names of prior products_order: \", list(ordprod_prior.columns))\n",
    "print(\"Variable names of train products_order: \", list(ordprod_train.columns))\n",
    "print(\"Variable names of orders: \", list(ord.columns))\n",
    "print(\"Variable names of products: \", list(prod.columns))"
   ]
  },
  {
   "cell_type": "code",
   "execution_count": 31,
   "metadata": {},
   "outputs": [],
   "source": [
    "#first we have to join aisles and department to products via aisles_id and department_id\n",
    "prod_aisl = prod.merge(aisles, on = \"aisle_id\", how = \"left\")\n",
    "prod_aisl_dept = prod_aisl.merge(dept, on = \"department_id\", how = \"left\")"
   ]
  },
  {
   "cell_type": "code",
   "execution_count": 41,
   "metadata": {},
   "outputs": [
    {
     "name": "stdout",
     "output_type": "stream",
     "text": [
      "(32434489, 15)\n",
      "(1384617, 15)\n"
     ]
    }
   ],
   "source": [
    "#now we can merge prod_aisl_dept and orders to the prior and train data set; for now we keep the prior and\n",
    "#train data set as two separated files\n",
    "prior_prod = ordprod_prior.merge(prod_aisl_dept, on = \"product_id\", how = \"left\")\n",
    "prior_all = prior_prod.merge(ord, on = \"order_id\", how = \"left\")\n",
    "print(prior_all.shape)\n",
    "\n",
    "train_prod = ordprod_train.merge(prod_aisl_dept, on = \"product_id\", how = \"left\")\n",
    "train_all = train_prod.merge(ord, on = \"order_id\", how = \"left\")\n",
    "print(train_all.shape)"
   ]
  }
 ],
 "metadata": {
  "kernelspec": {
   "display_name": "Python 3",
   "language": "python",
   "name": "python3"
  },
  "language_info": {
   "codemirror_mode": {
    "name": "ipython",
    "version": 3
   },
   "file_extension": ".py",
   "mimetype": "text/x-python",
   "name": "python",
   "nbconvert_exporter": "python",
   "pygments_lexer": "ipython3",
   "version": "3.8.5"
  }
 },
 "nbformat": 4,
 "nbformat_minor": 4
}
